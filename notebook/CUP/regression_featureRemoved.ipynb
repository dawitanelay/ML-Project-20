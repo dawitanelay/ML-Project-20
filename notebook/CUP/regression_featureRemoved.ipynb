{
 "cells": [
  {
   "cell_type": "code",
   "execution_count": 1,
   "metadata": {},
   "outputs": [],
   "source": [
    "\n",
    "import numpy as np\n",
    "import pandas as pd \n",
    "import matplotlib.pyplot as plt \n",
    "from sklearn.preprocessing import minmax_scale\n",
    "\n",
    "from sklearn.multioutput import RegressorChain\n",
    "from sklearn.svm import LinearSVR\n",
    "from sklearn.neighbors import KNeighborsRegressor\n",
    "from sklearn import svm\n",
    "from sklearn.tree import DecisionTreeRegressor, ExtraTreeRegressor\n",
    "from sklearn.multioutput import MultiOutputRegressor\n",
    "from sklearn.preprocessing import StandardScaler\n",
    "from sklearn.model_selection import train_test_split\n",
    "from sklearn.model_selection import GridSearchCV\n",
    "from sklearn.pipeline import Pipeline\n",
    "from sklearn.svm import SVR\n",
    "from sklearn.metrics import r2_score\n",
    "\n"
   ]
  },
  {
   "cell_type": "code",
   "execution_count": 2,
   "metadata": {},
   "outputs": [],
   "source": [
    "train_df = pd.read_csv('../data/ML-CUP20-TR .csv')\n",
    "test_df = pd.read_csv('../data/ML-CUP20-TS.csv')"
   ]
  },
  {
   "cell_type": "code",
   "execution_count": 4,
   "metadata": {},
   "outputs": [],
   "source": [
    "train_df = train_df.drop(['X1', 'X2','X8'], axis=1)"
   ]
  },
  {
   "cell_type": "code",
   "execution_count": 7,
   "metadata": {},
   "outputs": [],
   "source": [
    "train_x = train_df.iloc[:,:-2].to_numpy()\n",
    "train_y = train_df.iloc[:,[7,8]].to_numpy()"
   ]
  },
  {
   "cell_type": "code",
   "execution_count": 11,
   "metadata": {},
   "outputs": [],
   "source": [
    "x_train, x_test, y_train, y_test = train_test_split(train_x, train_y, test_size=0.4, random_state=30)\n"
   ]
  },
  {
   "cell_type": "code",
   "execution_count": 12,
   "metadata": {},
   "outputs": [],
   "source": [
    "knn_model = Pipeline(steps = [('scale', StandardScaler(with_mean=True, with_std=True)),\n",
    "                             ('estimator', RegressorChain(KNeighborsRegressor(n_neighbors=4), order=[0,1]))])\n",
    "et_regressor = Pipeline(steps = [('scale', StandardScaler()),\n",
    "                             ('estimator', RegressorChain(ExtraTreeRegressor(random_state=0), order=[0,1]))])\n",
    "dt_regressor = Pipeline(steps = [('scale', StandardScaler(with_mean=True, with_std=True)),\n",
    "                             ('estimator', RegressorChain(DecisionTreeRegressor(random_state=0), order=[0,1]))])\n",
    "direct_svr = Pipeline(steps = [('scale', StandardScaler(with_mean=True, with_std=True)),\n",
    "                             ('estimator', MultiOutputRegressor(SVR(kernel='rbf',C=0.1,  gamma='scale',epsilon=0.1)))])\n",
    "chin_svr = Pipeline(steps = [('scale', StandardScaler(with_mean=True, with_std=True)),\n",
    "                             ('estimator', RegressorChain(SVR(kernel='rbf',C=0.1,  gamma='scale',epsilon=0.1)))])\n"
   ]
  },
  {
   "cell_type": "code",
   "execution_count": 13,
   "metadata": {},
   "outputs": [],
   "source": [
    "knn_params={\n",
    "          'estimator__base_estimator__n_neighbors':[5,6,7,8,9,10],    \n",
    "          'estimator__base_estimator__leaf_size':[1,2,3,5],\n",
    "          'estimator__base_estimator__weights':['uniform', 'distance'],\n",
    "          'estimator__base_estimator__algorithm':['auto', 'ball_tree','kd_tree','brute']\n",
    "           }\n",
    "\n",
    "er_params={   'estimator__base_estimator__criterion': ['mse', 'mae','poisson','friedman_mse'], \n",
    "              'estimator__base_estimator__min_samples_split': [10, 20, 40,'best'],\n",
    "              'estimator__base_estimator__max_depth': [2, 6, 8],\n",
    "              'estimator__base_estimator__min_samples_leaf': [20, 40, 100],\n",
    "              'estimator__base_estimator__max_leaf_nodes': [5, 20, 100],\n",
    "          }\n",
    "\n",
    "dt_params = {\n",
    "    'estimator__base_estimator__criterion': ['mse', 'mae','poisson','friedman_mse'],\n",
    "    'estimator__base_estimator__min_samples_split': [10, 20, 40,'best'],\n",
    "    'estimator__base_estimator__max_depth': [2, 6, 8],\n",
    "    'estimator__base_estimator__min_samples_leaf': [20, 40, 100],\n",
    "    'estimator__base_estimator__max_leaf_nodes': [5, 20, 100]\n",
    "          }\n",
    "\n",
    "dsvr_params={\n",
    "    'estimator__estimator__kernel': [\"rbf\"],\n",
    "    'estimator__estimator__C': np.logspace(-3, 2, 6).tolist(),\n",
    "    'estimator__estimator__gamma':[0.0001, 0.001, 0.01, 0.1],\n",
    "    'estimator__estimator__epsilon': np.logspace(-3, 2, 6).tolist()}\n",
    "chinesvr_params={\n",
    "    'estimator__base_estimator__kernel': [\"rbf\"],\n",
    "    'estimator__base_estimator__gamma': [0.0001, 0.001, 0.01, 0.1],\n",
    "    'estimator__base_estimator__C': np.logspace(-3, 2, 6,8).tolist(),\n",
    "    'estimator__base_estimator__epsilon': np.logspace(-3, 2, 6,8).tolist()}"
   ]
  },
  {
   "cell_type": "code",
   "execution_count": 14,
   "metadata": {},
   "outputs": [],
   "source": [
    "# list of models\n",
    "regression_models = [knn_model,et_regressor,dt_regressor,direct_svr,chin_svr]\n",
    "parameters_list=[knn_params, er_params, dt_params, dsvr_params,chinesvr_params]\n",
    "model_log=[\"_knn\", \"_et\",\"_dt\", \"_dsrv\", \"_chinSvr\"]"
   ]
  },
  {
   "cell_type": "code",
   "execution_count": 24,
   "metadata": {},
   "outputs": [
    {
     "name": "stdout",
     "output_type": "stream",
     "text": [
      "Fitting 10 folds for each of 192 candidates, totalling 1920 fits\n"
     ]
    },
    {
     "name": "stderr",
     "output_type": "stream",
     "text": [
      "[Parallel(n_jobs=-1)]: Using backend LokyBackend with 8 concurrent workers.\n",
      "[Parallel(n_jobs=-1)]: Done  16 tasks      | elapsed:    0.1s\n",
      "[Parallel(n_jobs=-1)]: Done 1008 tasks      | elapsed:    2.1s\n",
      "[Parallel(n_jobs=-1)]: Done 1920 out of 1920 | elapsed:    3.7s finished\n",
      "[Parallel(n_jobs=-1)]: Using backend LokyBackend with 8 concurrent workers.\n",
      "[Parallel(n_jobs=-1)]: Done  16 tasks      | elapsed:    0.1s\n"
     ]
    },
    {
     "name": "stdout",
     "output_type": "stream",
     "text": [
      "Best parameters:{'estimator__base_estimator__algorithm': 'auto', 'estimator__base_estimator__leaf_size': 1, 'estimator__base_estimator__n_neighbors': 10, 'estimator__base_estimator__weights': 'distance'}\n",
      "Best training accuracy:-10.824013531698215\n",
      "Best model Pipeline(memory=None,\n",
      "         steps=[('scale',\n",
      "                 StandardScaler(copy=True, with_mean=True, with_std=True)),\n",
      "                ('estimator',\n",
      "                 RegressorChain(base_estimator=KNeighborsRegressor(algorithm='auto',\n",
      "                                                                   leaf_size=1,\n",
      "                                                                   metric='minkowski',\n",
      "                                                                   metric_params=None,\n",
      "                                                                   n_jobs=None,\n",
      "                                                                   n_neighbors=10,\n",
      "                                                                   p=2,\n",
      "                                                                   weights='distance'),\n",
      "                                cv=None, order=[0, 1], random_state=None))],\n",
      "         verbose=False)\n",
      "Test set accuracy score for best params:0.9247791024806717\n",
      "Fitting 10 folds for each of 432 candidates, totalling 4320 fits\n"
     ]
    },
    {
     "name": "stderr",
     "output_type": "stream",
     "text": [
      "[Parallel(n_jobs=-1)]: Done 1008 tasks      | elapsed:    1.7s\n",
      "[Parallel(n_jobs=-1)]: Done 3568 tasks      | elapsed:    6.1s\n",
      "[Parallel(n_jobs=-1)]: Done 4320 out of 4320 | elapsed:    7.0s finished\n",
      "[Parallel(n_jobs=-1)]: Using backend LokyBackend with 8 concurrent workers.\n",
      "[Parallel(n_jobs=-1)]: Done  16 tasks      | elapsed:    0.1s\n"
     ]
    },
    {
     "name": "stdout",
     "output_type": "stream",
     "text": [
      "Best parameters:{'estimator__base_estimator__criterion': 'mse', 'estimator__base_estimator__max_depth': 8, 'estimator__base_estimator__max_leaf_nodes': 100, 'estimator__base_estimator__min_samples_leaf': 20, 'estimator__base_estimator__min_samples_split': 10}\n",
      "Best training accuracy:-37.277356895367426\n",
      "Best model Pipeline(memory=None,\n",
      "         steps=[('scale',\n",
      "                 StandardScaler(copy=True, with_mean=True, with_std=True)),\n",
      "                ('estimator',\n",
      "                 RegressorChain(base_estimator=ExtraTreeRegressor(ccp_alpha=0.0,\n",
      "                                                                  criterion='mse',\n",
      "                                                                  max_depth=8,\n",
      "                                                                  max_features='auto',\n",
      "                                                                  max_leaf_nodes=100,\n",
      "                                                                  min_impurity_decrease=0.0,\n",
      "                                                                  min_impurity_split=None,\n",
      "                                                                  min_samples_leaf=20,\n",
      "                                                                  min_samples_split=10,\n",
      "                                                                  min_weight_fraction_leaf=0.0,\n",
      "                                                                  random_state=0,\n",
      "                                                                  splitter='random'),\n",
      "                                cv=None, order=[0, 1], random_state=None))],\n",
      "         verbose=False)\n",
      "Test set accuracy score for best params:0.9247791024806717\n",
      "Fitting 10 folds for each of 432 candidates, totalling 4320 fits\n"
     ]
    },
    {
     "name": "stderr",
     "output_type": "stream",
     "text": [
      "[Parallel(n_jobs=-1)]: Done 1008 tasks      | elapsed:    1.9s\n",
      "[Parallel(n_jobs=-1)]: Done 2128 tasks      | elapsed:   10.9s\n",
      "[Parallel(n_jobs=-1)]: Done 4320 out of 4320 | elapsed:   14.3s finished\n",
      "[Parallel(n_jobs=-1)]: Using backend LokyBackend with 8 concurrent workers.\n"
     ]
    },
    {
     "name": "stdout",
     "output_type": "stream",
     "text": [
      "Best parameters:{'estimator__base_estimator__criterion': 'mae', 'estimator__base_estimator__max_depth': 8, 'estimator__base_estimator__max_leaf_nodes': 100, 'estimator__base_estimator__min_samples_leaf': 20, 'estimator__base_estimator__min_samples_split': 10}\n",
      "Best training accuracy:-26.31796550221671\n",
      "Best model Pipeline(memory=None,\n",
      "         steps=[('scale',\n",
      "                 StandardScaler(copy=True, with_mean=True, with_std=True)),\n",
      "                ('estimator',\n",
      "                 RegressorChain(base_estimator=DecisionTreeRegressor(ccp_alpha=0.0,\n",
      "                                                                     criterion='mae',\n",
      "                                                                     max_depth=8,\n",
      "                                                                     max_features=None,\n",
      "                                                                     max_leaf_nodes=100,\n",
      "                                                                     min_impurity_decrease=0.0,\n",
      "                                                                     min_impurity_split=None,\n",
      "                                                                     min_samples_leaf=20,\n",
      "                                                                     min_samples_split=10,\n",
      "                                                                     min_weight_fraction_leaf=0.0,\n",
      "                                                                     presort='deprecated',\n",
      "                                                                     random_state=0,\n",
      "                                                                     splitter='best'),\n",
      "                                cv=None, order=[0, 1], random_state=None))],\n",
      "         verbose=False)\n",
      "Test set accuracy score for best params:0.9247791024806717\n",
      "Fitting 10 folds for each of 144 candidates, totalling 1440 fits\n"
     ]
    },
    {
     "name": "stderr",
     "output_type": "stream",
     "text": [
      "[Parallel(n_jobs=-1)]: Done  16 tasks      | elapsed:    0.2s\n",
      "[Parallel(n_jobs=-1)]: Done 208 tasks      | elapsed:    2.2s\n",
      "[Parallel(n_jobs=-1)]: Done 800 tasks      | elapsed:    7.6s\n",
      "[Parallel(n_jobs=-1)]: Done 1440 out of 1440 | elapsed:   14.5s finished\n",
      "[Parallel(n_jobs=-1)]: Using backend LokyBackend with 8 concurrent workers.\n"
     ]
    },
    {
     "name": "stdout",
     "output_type": "stream",
     "text": [
      "Best parameters:{'estimator__estimator__C': 10.0, 'estimator__estimator__epsilon': 0.01, 'estimator__estimator__gamma': 0.1, 'estimator__estimator__kernel': 'rbf'}\n",
      "Best training accuracy:-10.738873828643552\n",
      "Best model Pipeline(memory=None,\n",
      "         steps=[('scale',\n",
      "                 StandardScaler(copy=True, with_mean=True, with_std=True)),\n",
      "                ('estimator',\n",
      "                 MultiOutputRegressor(estimator=SVR(C=10.0, cache_size=200,\n",
      "                                                    coef0=0.0, degree=3,\n",
      "                                                    epsilon=0.01, gamma=0.1,\n",
      "                                                    kernel='rbf', max_iter=-1,\n",
      "                                                    shrinking=True, tol=0.001,\n",
      "                                                    verbose=False),\n",
      "                                      n_jobs=None))],\n",
      "         verbose=False)\n",
      "Test set accuracy score for best params:0.9247791024806717\n",
      "Fitting 10 folds for each of 144 candidates, totalling 1440 fits\n"
     ]
    },
    {
     "name": "stderr",
     "output_type": "stream",
     "text": [
      "[Parallel(n_jobs=-1)]: Done  16 tasks      | elapsed:    0.3s\n",
      "[Parallel(n_jobs=-1)]: Done 208 tasks      | elapsed:    2.1s\n",
      "[Parallel(n_jobs=-1)]: Done 1440 out of 1440 | elapsed:   20.5s finished\n"
     ]
    },
    {
     "name": "stdout",
     "output_type": "stream",
     "text": [
      "Best parameters:{'estimator__base_estimator__C': 100.0, 'estimator__base_estimator__epsilon': 0.1, 'estimator__base_estimator__gamma': 0.1, 'estimator__base_estimator__kernel': 'rbf'}\n",
      "Best training accuracy:-12.01966544589798\n",
      "Best model Pipeline(memory=None,\n",
      "         steps=[('scale',\n",
      "                 StandardScaler(copy=True, with_mean=True, with_std=True)),\n",
      "                ('estimator',\n",
      "                 RegressorChain(base_estimator=SVR(C=100.0, cache_size=200,\n",
      "                                                   coef0=0.0, degree=3,\n",
      "                                                   epsilon=0.1, gamma=0.1,\n",
      "                                                   kernel='rbf', max_iter=-1,\n",
      "                                                   shrinking=True, tol=0.001,\n",
      "                                                   verbose=False),\n",
      "                                cv=None, order=None, random_state=None))],\n",
      "         verbose=False)\n",
      "Test set accuracy score for best params:0.9247791024806717\n"
     ]
    }
   ],
   "source": [
    "for i in range(len(regression_models)):\n",
    "    Grid=GridSearchCV(estimator=regression_models[i], param_grid=parameters_list[i], scoring='neg_mean_squared_error',\n",
    "                      n_jobs=-1, cv=10, verbose=3).fit(x_train, y_train)\n",
    "    print(f\"Best parameters:{Grid.best_params_}\")\n",
    "    print(f\"Best training accuracy:{Grid.best_score_}\")\n",
    "    print(f\"Best model {Grid.best_estimator_}\")\n",
    "    print(f\"Test set accuracy score for best params:{r2_score(y_test, y_pred)}\" )\n",
    "\n",
    "      "
   ]
  },
  {
   "cell_type": "code",
   "execution_count": 10,
   "metadata": {
    "collapsed": true,
    "jupyter": {
     "outputs_hidden": true,
     "source_hidden": true
    }
   },
   "outputs": [
    {
     "data": {
      "text/plain": [
       "array([ 0.453528, -0.761051, -0.537705,  1.471803, -1.143195,  1.603978,\n",
       "       -1.399807])"
      ]
     },
     "execution_count": 10,
     "metadata": {},
     "output_type": "execute_result"
    }
   ],
   "source": [
    "train_x[0]"
   ]
  },
  {
   "cell_type": "code",
   "execution_count": null,
   "metadata": {
    "jupyter": {
     "source_hidden": true
    }
   },
   "outputs": [],
   "source": []
  }
 ],
 "metadata": {
  "kernelspec": {
   "display_name": "Python 3",
   "language": "python",
   "name": "python3"
  },
  "language_info": {
   "codemirror_mode": {
    "name": "ipython",
    "version": 3
   },
   "file_extension": ".py",
   "mimetype": "text/x-python",
   "name": "python",
   "nbconvert_exporter": "python",
   "pygments_lexer": "ipython3",
   "version": "3.7.6"
  }
 },
 "nbformat": 4,
 "nbformat_minor": 4
}
