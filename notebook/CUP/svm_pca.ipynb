{
 "cells": [
  {
   "cell_type": "code",
   "execution_count": 7,
   "metadata": {},
   "outputs": [],
   "source": [
    "\n",
    "import numpy as np\n",
    "import pandas as pd \n",
    "import matplotlib.pyplot as plt \n",
    "from sklearn.preprocessing import minmax_scale\n",
    "\n",
    "from sklearn.multioutput import RegressorChain\n",
    "from sklearn.svm import LinearSVR\n",
    "from sklearn.neighbors import KNeighborsRegressor\n",
    "from sklearn import svm\n",
    "from sklearn.tree import DecisionTreeRegressor, ExtraTreeRegressor\n",
    "from sklearn.multioutput import MultiOutputRegressor\n",
    "from sklearn.preprocessing import StandardScaler\n",
    "from sklearn.model_selection import train_test_split\n",
    "from sklearn.model_selection import GridSearchCV\n",
    "from sklearn.pipeline import Pipeline\n",
    "from sklearn.svm import SVR\n",
    "from sklearn.metrics import r2_score\n",
    "from sklearn.decomposition import PCA\n",
    "\n",
    "\n"
   ]
  },
  {
   "cell_type": "code",
   "execution_count": 3,
   "metadata": {},
   "outputs": [],
   "source": [
    "train_df = pd.read_csv('../data/ML-CUP20-TR .csv')\n",
    "test_df = pd.read_csv('../data/ML-CUP20-TS.csv')\n",
    "\n",
    "# Spilitting the targets and input features\n",
    "train_x = train_df.iloc[:,:-2].to_numpy()\n",
    "train_y = train_df.iloc[:,[10,11]].to_numpy()\n"
   ]
  },
  {
   "cell_type": "code",
   "execution_count": 5,
   "metadata": {},
   "outputs": [],
   "source": [
    "x_train, x_test, y_train, y_test = train_test_split(train_x, train_y, test_size=0.4, random_state=30)"
   ]
  },
  {
   "cell_type": "code",
   "execution_count": 10,
   "metadata": {},
   "outputs": [],
   "source": [
    "knn_model = Pipeline(steps = [('scale', StandardScaler(with_mean=True, with_std=True)),\n",
    "                              ('pca', PCA(n_components=2)),\n",
    "                             ('estimator', RegressorChain(KNeighborsRegressor(n_neighbors=4), order=[0,1]))])\n",
    "et_regressor = Pipeline(steps = [('scale', StandardScaler()),\n",
    "                                 ('pca', PCA(n_components=2)),\n",
    "                             ('estimator', RegressorChain(ExtraTreeRegressor(random_state=0), order=[0,1]))])\n",
    "dt_regressor = Pipeline(steps = [('scale', StandardScaler(with_mean=True, with_std=True)),\n",
    "                                 ('pca', PCA(n_components=2)),\n",
    "                             ('estimator', RegressorChain(DecisionTreeRegressor(random_state=0), order=[0,1]))])\n",
    "direct_svr = Pipeline(steps = [('scale', StandardScaler(with_mean=True, with_std=True)),\n",
    "                               ('pca', PCA(n_components=2)),\n",
    "                             ('estimator', MultiOutputRegressor(SVR(kernel='rbf',C=0.1, epsilon=0.1)))])\n",
    "chin_svr = Pipeline(steps = [('scale', StandardScaler(with_mean=True, with_std=True)),\n",
    "                             ('pca', PCA(n_components=2)),\n",
    "                             ('estimator', RegressorChain(SVR(kernel='rbf',C=0.1, epsilon=0.1)))])\n"
   ]
  },
  {
   "cell_type": "code",
   "execution_count": 17,
   "metadata": {},
   "outputs": [],
   "source": [
    "knn_params={\n",
    "          'estimator__base_estimator__n_neighbors':[5,6,7,8,9,10],    \n",
    "          'estimator__base_estimator__leaf_size':[1,2,3,5],\n",
    "          'estimator__base_estimator__weights':['uniform', 'distance'],\n",
    "          'estimator__base_estimator__algorithm':['auto', 'ball_tree','kd_tree','brute']\n",
    "           }\n",
    "\n",
    "er_params={   'estimator__base_estimator__criterion': ['mse', 'mae','poisson','friedman_mse'], \n",
    "              'estimator__base_estimator__min_samples_split': [10, 20, 40,'best'],\n",
    "              'estimator__base_estimator__max_depth': [2, 6, 8],\n",
    "              'estimator__base_estimator__min_samples_leaf': [20, 40, 100],\n",
    "              'estimator__base_estimator__max_leaf_nodes': [5, 20, 100],\n",
    "          }\n",
    "\n",
    "dt_params = {\n",
    "    'estimator__base_estimator__criterion': ['mse', 'mae','poisson','friedman_mse'],\n",
    "    'estimator__base_estimator__min_samples_split': [10, 20, 40,'best'],\n",
    "    'estimator__base_estimator__max_depth': [2, 6, 8],\n",
    "    'estimator__base_estimator__min_samples_leaf': [20, 40, 100],\n",
    "    'estimator__base_estimator__max_leaf_nodes': [5, 20, 100]\n",
    "          }\n",
    "\n",
    "dsvr_params={\n",
    "    'estimator__estimator__kernel': [\"rbf\"],\n",
    "    'estimator__estimator__C': np.logspace(-3, 2, 6).tolist(),\n",
    "    'estimator__estimator__gamma':[0.0001, 0.001, 0.01, 0.1],\n",
    "    'estimator__estimator__epsilon': np.logspace(-3, 2, 6).tolist()}\n",
    "chinesvr_params={\n",
    "    'estimator__base_estimator__kernel': [\"rbf\"],\n",
    "    'estimator__base_estimator__gamma': [0.0001, 0.001, 0.01, 0.1],\n",
    "    'estimator__base_estimator__C': np.logspace(-3, 2, 6,8).tolist(),\n",
    "    'estimator__base_estimator__epsilon': np.logspace(-3, 2, 6,8).tolist()}"
   ]
  },
  {
   "cell_type": "code",
   "execution_count": 18,
   "metadata": {},
   "outputs": [],
   "source": [
    "parameters_list=[knn_params, er_params, dt_params, dsvr_params,chinesvr_params]\n",
    "model_log=[\"_knn\", \"_et\",\"_dt\", \"_dsrv\", \"_chinSvr\"]\n",
    "regression_models = [knn_model,et_regressor,dt_regressor,direct_svr,chin_svr]"
   ]
  },
  {
   "cell_type": "code",
   "execution_count": 19,
   "metadata": {},
   "outputs": [
    {
     "name": "stdout",
     "output_type": "stream",
     "text": [
      "Fitting 10 folds for each of 192 candidates, totalling 1920 fits\n"
     ]
    },
    {
     "name": "stderr",
     "output_type": "stream",
     "text": [
      "[Parallel(n_jobs=-1)]: Using backend LokyBackend with 8 concurrent workers.\n",
      "[Parallel(n_jobs=-1)]: Done  16 tasks      | elapsed:    0.1s\n",
      "[Parallel(n_jobs=-1)]: Done 624 tasks      | elapsed:    1.6s\n",
      "[Parallel(n_jobs=-1)]: Done 1883 tasks      | elapsed:    4.5s\n",
      "[Parallel(n_jobs=-1)]: Done 1920 out of 1920 | elapsed:    4.5s finished\n",
      "[Parallel(n_jobs=-1)]: Using backend LokyBackend with 8 concurrent workers.\n",
      "[Parallel(n_jobs=-1)]: Done  16 tasks      | elapsed:    0.1s\n"
     ]
    },
    {
     "name": "stdout",
     "output_type": "stream",
     "text": [
      "Best params: {'estimator__base_estimator__algorithm': 'auto', 'estimator__base_estimator__leaf_size': 1, 'estimator__base_estimator__n_neighbors': 10, 'estimator__base_estimator__weights': 'uniform'}\n",
      "Best training accuracy: -12.484\n",
      "Test set accuracy score for best params: 0.916 \n",
      "Fitting 10 folds for each of 432 candidates, totalling 4320 fits\n"
     ]
    },
    {
     "name": "stderr",
     "output_type": "stream",
     "text": [
      "[Parallel(n_jobs=-1)]: Done 1008 tasks      | elapsed:    2.3s\n",
      "[Parallel(n_jobs=-1)]: Done 3568 tasks      | elapsed:    8.2s\n",
      "[Parallel(n_jobs=-1)]: Done 4320 out of 4320 | elapsed:    9.7s finished\n",
      "[Parallel(n_jobs=-1)]: Using backend LokyBackend with 8 concurrent workers.\n",
      "[Parallel(n_jobs=-1)]: Done  16 tasks      | elapsed:    0.1s\n"
     ]
    },
    {
     "name": "stdout",
     "output_type": "stream",
     "text": [
      "Best params: {'estimator__base_estimator__criterion': 'mse', 'estimator__base_estimator__max_depth': 6, 'estimator__base_estimator__max_leaf_nodes': 20, 'estimator__base_estimator__min_samples_leaf': 20, 'estimator__base_estimator__min_samples_split': 10}\n",
      "Best training accuracy: -26.676\n",
      "Test set accuracy score for best params: 0.809 \n",
      "Fitting 10 folds for each of 432 candidates, totalling 4320 fits\n"
     ]
    },
    {
     "name": "stderr",
     "output_type": "stream",
     "text": [
      "[Parallel(n_jobs=-1)]: Done 624 tasks      | elapsed:    1.6s\n",
      "[Parallel(n_jobs=-1)]: Done 1904 tasks      | elapsed:    6.2s\n",
      "[Parallel(n_jobs=-1)]: Done 3696 tasks      | elapsed:   10.6s\n",
      "[Parallel(n_jobs=-1)]: Done 4320 out of 4320 | elapsed:   11.9s finished\n",
      "[Parallel(n_jobs=-1)]: Using backend LokyBackend with 8 concurrent workers.\n"
     ]
    },
    {
     "name": "stdout",
     "output_type": "stream",
     "text": [
      "Best params: {'estimator__base_estimator__criterion': 'mse', 'estimator__base_estimator__max_depth': 8, 'estimator__base_estimator__max_leaf_nodes': 100, 'estimator__base_estimator__min_samples_leaf': 20, 'estimator__base_estimator__min_samples_split': 10}\n",
      "Best training accuracy: -14.228\n",
      "Test set accuracy score for best params: 0.903 \n",
      "Fitting 10 folds for each of 144 candidates, totalling 1440 fits\n"
     ]
    },
    {
     "name": "stderr",
     "output_type": "stream",
     "text": [
      "[Parallel(n_jobs=-1)]: Done  16 tasks      | elapsed:    0.3s\n",
      "[Parallel(n_jobs=-1)]: Done 208 tasks      | elapsed:    2.4s\n",
      "[Parallel(n_jobs=-1)]: Done 816 tasks      | elapsed:    9.0s\n",
      "[Parallel(n_jobs=-1)]: Done 1425 out of 1440 | elapsed:   15.8s remaining:    0.2s\n",
      "[Parallel(n_jobs=-1)]: Done 1440 out of 1440 | elapsed:   15.8s finished\n",
      "[Parallel(n_jobs=-1)]: Using backend LokyBackend with 8 concurrent workers.\n"
     ]
    },
    {
     "name": "stdout",
     "output_type": "stream",
     "text": [
      "Best params: {'estimator__estimator__C': 10.0, 'estimator__estimator__epsilon': 1.0, 'estimator__estimator__gamma': 0.1, 'estimator__estimator__kernel': 'rbf'}\n",
      "Best training accuracy: -11.804\n",
      "Test set accuracy score for best params: 0.921 \n",
      "Fitting 10 folds for each of 144 candidates, totalling 1440 fits\n"
     ]
    },
    {
     "name": "stderr",
     "output_type": "stream",
     "text": [
      "[Parallel(n_jobs=-1)]: Done  16 tasks      | elapsed:    0.3s\n",
      "[Parallel(n_jobs=-1)]: Done 208 tasks      | elapsed:    2.7s\n",
      "[Parallel(n_jobs=-1)]: Done 1243 tasks      | elapsed:   13.9s\n"
     ]
    },
    {
     "name": "stdout",
     "output_type": "stream",
     "text": [
      "Best params: {'estimator__base_estimator__C': 100.0, 'estimator__base_estimator__epsilon': 1.0, 'estimator__base_estimator__gamma': 0.1, 'estimator__base_estimator__kernel': 'rbf'}\n",
      "Best training accuracy: -12.073\n",
      "Test set accuracy score for best params: 0.919 \n"
     ]
    },
    {
     "name": "stderr",
     "output_type": "stream",
     "text": [
      "[Parallel(n_jobs=-1)]: Done 1440 out of 1440 | elapsed:   18.3s finished\n"
     ]
    }
   ],
   "source": [
    "for i in range(len(regression_models)):\n",
    "    Grid=GridSearchCV(estimator=regression_models[i], param_grid=parameters_list[i], scoring='neg_mean_squared_error',\n",
    "                      n_jobs=-1, cv=10, verbose=3).fit(x_train, y_train)\n",
    "    y_pred = Grid.predict(x_test)\n",
    "    print('Best params: %s' % Grid.best_params_)\n",
    "    print('Best training accuracy: %.3f' % Grid.best_score_)\n",
    "    print('Test set accuracy score for best params: %.3f ' % r2_score(y_test, y_pred))\n",
    "\n",
    "      "
   ]
  },
  {
   "cell_type": "code",
   "execution_count": null,
   "metadata": {},
   "outputs": [],
   "source": []
  }
 ],
 "metadata": {
  "kernelspec": {
   "display_name": "Python 3",
   "language": "python",
   "name": "python3"
  },
  "language_info": {
   "codemirror_mode": {
    "name": "ipython",
    "version": 3
   },
   "file_extension": ".py",
   "mimetype": "text/x-python",
   "name": "python",
   "nbconvert_exporter": "python",
   "pygments_lexer": "ipython3",
   "version": "3.7.6"
  }
 },
 "nbformat": 4,
 "nbformat_minor": 4
}
