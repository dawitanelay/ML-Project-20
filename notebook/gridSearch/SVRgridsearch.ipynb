{
 "cells": [
  {
   "cell_type": "code",
   "execution_count": 64,
   "metadata": {},
   "outputs": [],
   "source": [
    "\n",
    "\"\"\"Importing the libraries\"\"\"\n",
    "import numpy as np\n",
    "import pandas as pd \n",
    "from sklearn.preprocessing import StandardScaler\n",
    "from sklearn.multioutput import RegressorChain\n",
    "from sklearn.multioutput import MultiOutputRegressor\n",
    "from sklearn.model_selection import train_test_split\n",
    "from sklearn.model_selection import GridSearchCV\n",
    "from sklearn.svm import SVR\n",
    "from sklearn.pipeline import Pipeline\n",
    "from sklearn.metrics import r2_score\n",
    "from sklearn.model_selection import learning_curve\n",
    "import matplotlib.pyplot as plt\n",
    "import seaborn as sns \n",
    "import numpy\n",
    "import time\n",
    "from sklearn.metrics import make_scorer\n",
    "\n",
    "\n"
   ]
  },
  {
   "cell_type": "code",
   "execution_count": 41,
   "metadata": {},
   "outputs": [],
   "source": [
    "def mean_euclidean_error(y_true, y_pred):\n",
    "    \"\"\"\n",
    "    mean euclidean error MEE\n",
    "    \"\"\"\n",
    "\n",
    "    error = 0\n",
    "    if len(y_true) == len(y_pred):\n",
    "        for i in range(len(y_true)):\n",
    "            error = error + np.sqrt(np.square(y_pred[i][0]\n",
    "                                    - y_true[i][0])\n",
    "                                    + np.square(y_pred[i][1]\n",
    "                                    - y_true[i][1]))\n",
    "        return error / len(y_true)"
   ]
  },
  {
   "cell_type": "code",
   "execution_count": 42,
   "metadata": {},
   "outputs": [],
   "source": [
    "\"\"\"Importing the dataset\"\"\"\n",
    "\n",
    "train_df = pd.read_csv('../data/ML-CUP20-TR .csv')\n",
    "test_df = pd.read_csv('../data/ML-CUP20-TS.csv')\n",
    "test_cup = pd.read_csv('../data/ML-CUP20-TS.csv')"
   ]
  },
  {
   "cell_type": "code",
   "execution_count": 43,
   "metadata": {},
   "outputs": [],
   "source": [
    "\"\"\"Splitting the dataset into the Training set and Test set\"\"\"\n",
    "\n",
    "train_x = train_df.iloc[:, :-2].to_numpy()\n",
    "train_y = train_df.iloc[:, [10, 11]].to_numpy()\n"
   ]
  },
  {
   "cell_type": "code",
   "execution_count": 44,
   "metadata": {},
   "outputs": [],
   "source": [
    "(x_dev, x_test, y_dev, y_test) = train_test_split(train_x, train_y,\n",
    "        test_size=0.25, random_state=30)\n",
    "(x_train, x_val, y_train, y_val) = train_test_split(x_dev, y_dev,\n",
    "        test_size=0.25, random_state=30)"
   ]
  },
  {
   "cell_type": "code",
   "execution_count": 37,
   "metadata": {},
   "outputs": [],
   "source": [
    "chin_svr = Pipeline(steps=[('scale', StandardScaler(with_mean=True,\n",
    "                    with_std=True)), ('estimator',\n",
    "                    RegressorChain(SVR(kernel='rbf', C=0.1,\n",
    "                    gamma='scale', epsilon=0.1)))])"
   ]
  },
  {
   "cell_type": "code",
   "execution_count": 56,
   "metadata": {},
   "outputs": [],
   "source": [
    "chinesvr_params = {\n",
    "    'estimator__base_estimator__kernel': ['rbf'],\n",
    "    'estimator__base_estimator__gamma': [0.0001, 0.001, 0.01, 0.1],\n",
    "    'estimator__base_estimator__C': np.logspace(-3, 2, 6).tolist(),\n",
    "    'estimator__base_estimator__epsilon': np.logspace(-3, 2, 6).tolist(),\n",
    "    }\n",
    "\n"
   ]
  },
  {
   "cell_type": "code",
   "execution_count": null,
   "metadata": {},
   "outputs": [],
   "source": [
    "print(\"Mean\\tSTD\\tParams\")\n",
    "means = grid_result.cvr_esults_['mean_test_score']\n",
    "stds = grid_result.cv_results_['std_test_score']\n",
    "params = grid_result.cv_results_['params']\n",
    "for mean, stdev, param in sorted(zip(means, stds, params)):\n",
    "    print(\"%f (%f) with: %r\" % (mean, stdev, param))"
   ]
  },
  {
   "cell_type": "code",
   "execution_count": 65,
   "metadata": {},
   "outputs": [],
   "source": [
    "mee = make_scorer(mean_euclidean_error, greater_is_better=False)"
   ]
  },
  {
   "cell_type": "code",
   "execution_count": 86,
   "metadata": {},
   "outputs": [
    {
     "name": "stdout",
     "output_type": "stream",
     "text": [
      "Fitting 3 folds for each of 144 candidates, totalling 432 fits\n"
     ]
    },
    {
     "name": "stderr",
     "output_type": "stream",
     "text": [
      "[Parallel(n_jobs=-1)]: Using backend LokyBackend with 8 concurrent workers.\n",
      "[Parallel(n_jobs=-1)]: Done  34 tasks      | elapsed:    1.7s\n",
      "[Parallel(n_jobs=-1)]: Done 432 out of 432 | elapsed:    5.5s finished\n"
     ]
    },
    {
     "name": "stdout",
     "output_type": "stream",
     "text": [
      "Mean\tSTD\tParams\n",
      "-16.711052 (0.214539) with: {'estimator__base_estimator__C': 0.001, 'estimator__base_estimator__epsilon': 0.001, 'estimator__base_estimator__gamma': 0.0001, 'estimator__base_estimator__kernel': 'rbf'}\n",
      "-16.705231 (0.214666) with: {'estimator__base_estimator__C': 0.001, 'estimator__base_estimator__epsilon': 0.001, 'estimator__base_estimator__gamma': 0.001, 'estimator__base_estimator__kernel': 'rbf'}\n",
      "-16.661009 (0.215026) with: {'estimator__base_estimator__C': 0.001, 'estimator__base_estimator__epsilon': 0.001, 'estimator__base_estimator__gamma': 0.01, 'estimator__base_estimator__kernel': 'rbf'}\n",
      "-16.615414 (0.215015) with: {'estimator__base_estimator__C': 0.001, 'estimator__base_estimator__epsilon': 0.001, 'estimator__base_estimator__gamma': 0.1, 'estimator__base_estimator__kernel': 'rbf'}\n",
      "-16.710990 (0.214859) with: {'estimator__base_estimator__C': 0.001, 'estimator__base_estimator__epsilon': 0.01, 'estimator__base_estimator__gamma': 0.0001, 'estimator__base_estimator__kernel': 'rbf'}\n",
      "-16.705327 (0.214732) with: {'estimator__base_estimator__C': 0.001, 'estimator__base_estimator__epsilon': 0.01, 'estimator__base_estimator__gamma': 0.001, 'estimator__base_estimator__kernel': 'rbf'}\n",
      "-16.660916 (0.215374) with: {'estimator__base_estimator__C': 0.001, 'estimator__base_estimator__epsilon': 0.01, 'estimator__base_estimator__gamma': 0.01, 'estimator__base_estimator__kernel': 'rbf'}\n",
      "-16.615295 (0.215331) with: {'estimator__base_estimator__C': 0.001, 'estimator__base_estimator__epsilon': 0.01, 'estimator__base_estimator__gamma': 0.1, 'estimator__base_estimator__kernel': 'rbf'}\n",
      "-16.708810 (0.216178) with: {'estimator__base_estimator__C': 0.001, 'estimator__base_estimator__epsilon': 0.1, 'estimator__base_estimator__gamma': 0.0001, 'estimator__base_estimator__kernel': 'rbf'}\n",
      "-16.703627 (0.215865) with: {'estimator__base_estimator__C': 0.001, 'estimator__base_estimator__epsilon': 0.1, 'estimator__base_estimator__gamma': 0.001, 'estimator__base_estimator__kernel': 'rbf'}\n",
      "-16.657965 (0.216317) with: {'estimator__base_estimator__C': 0.001, 'estimator__base_estimator__epsilon': 0.1, 'estimator__base_estimator__gamma': 0.01, 'estimator__base_estimator__kernel': 'rbf'}\n",
      "-16.611981 (0.216439) with: {'estimator__base_estimator__C': 0.001, 'estimator__base_estimator__epsilon': 0.1, 'estimator__base_estimator__gamma': 0.1, 'estimator__base_estimator__kernel': 'rbf'}\n",
      "-16.714767 (0.223782) with: {'estimator__base_estimator__C': 0.001, 'estimator__base_estimator__epsilon': 1.0, 'estimator__base_estimator__gamma': 0.0001, 'estimator__base_estimator__kernel': 'rbf'}\n",
      "-16.709230 (0.224051) with: {'estimator__base_estimator__C': 0.001, 'estimator__base_estimator__epsilon': 1.0, 'estimator__base_estimator__gamma': 0.001, 'estimator__base_estimator__kernel': 'rbf'}\n",
      "-16.664443 (0.224059) with: {'estimator__base_estimator__C': 0.001, 'estimator__base_estimator__epsilon': 1.0, 'estimator__base_estimator__gamma': 0.01, 'estimator__base_estimator__kernel': 'rbf'}\n",
      "-16.618291 (0.223156) with: {'estimator__base_estimator__C': 0.001, 'estimator__base_estimator__epsilon': 1.0, 'estimator__base_estimator__gamma': 0.1, 'estimator__base_estimator__kernel': 'rbf'}\n",
      "-16.973083 (0.137899) with: {'estimator__base_estimator__C': 0.001, 'estimator__base_estimator__epsilon': 10.0, 'estimator__base_estimator__gamma': 0.0001, 'estimator__base_estimator__kernel': 'rbf'}\n",
      "-16.966263 (0.136994) with: {'estimator__base_estimator__C': 0.001, 'estimator__base_estimator__epsilon': 10.0, 'estimator__base_estimator__gamma': 0.001, 'estimator__base_estimator__kernel': 'rbf'}\n",
      "-16.929907 (0.139273) with: {'estimator__base_estimator__C': 0.001, 'estimator__base_estimator__epsilon': 10.0, 'estimator__base_estimator__gamma': 0.01, 'estimator__base_estimator__kernel': 'rbf'}\n",
      "-16.899415 (0.135104) with: {'estimator__base_estimator__C': 0.001, 'estimator__base_estimator__epsilon': 10.0, 'estimator__base_estimator__gamma': 0.1, 'estimator__base_estimator__kernel': 'rbf'}\n",
      "-19.113370 (0.026325) with: {'estimator__base_estimator__C': 0.001, 'estimator__base_estimator__epsilon': 100.0, 'estimator__base_estimator__gamma': 0.0001, 'estimator__base_estimator__kernel': 'rbf'}\n",
      "-19.113370 (0.026325) with: {'estimator__base_estimator__C': 0.001, 'estimator__base_estimator__epsilon': 100.0, 'estimator__base_estimator__gamma': 0.001, 'estimator__base_estimator__kernel': 'rbf'}\n",
      "-19.113370 (0.026325) with: {'estimator__base_estimator__C': 0.001, 'estimator__base_estimator__epsilon': 100.0, 'estimator__base_estimator__gamma': 0.01, 'estimator__base_estimator__kernel': 'rbf'}\n",
      "-19.113370 (0.026325) with: {'estimator__base_estimator__C': 0.001, 'estimator__base_estimator__epsilon': 100.0, 'estimator__base_estimator__gamma': 0.1, 'estimator__base_estimator__kernel': 'rbf'}\n",
      "-16.706069 (0.215132) with: {'estimator__base_estimator__C': 0.01, 'estimator__base_estimator__epsilon': 0.001, 'estimator__base_estimator__gamma': 0.0001, 'estimator__base_estimator__kernel': 'rbf'}\n",
      "-16.647454 (0.211944) with: {'estimator__base_estimator__C': 0.01, 'estimator__base_estimator__epsilon': 0.001, 'estimator__base_estimator__gamma': 0.001, 'estimator__base_estimator__kernel': 'rbf'}\n",
      "-16.192653 (0.220202) with: {'estimator__base_estimator__C': 0.01, 'estimator__base_estimator__epsilon': 0.001, 'estimator__base_estimator__gamma': 0.01, 'estimator__base_estimator__kernel': 'rbf'}\n",
      "-15.774958 (0.221548) with: {'estimator__base_estimator__C': 0.01, 'estimator__base_estimator__epsilon': 0.001, 'estimator__base_estimator__gamma': 0.1, 'estimator__base_estimator__kernel': 'rbf'}\n",
      "-16.706365 (0.214922) with: {'estimator__base_estimator__C': 0.01, 'estimator__base_estimator__epsilon': 0.01, 'estimator__base_estimator__gamma': 0.0001, 'estimator__base_estimator__kernel': 'rbf'}\n",
      "-16.647544 (0.212005) with: {'estimator__base_estimator__C': 0.01, 'estimator__base_estimator__epsilon': 0.01, 'estimator__base_estimator__gamma': 0.001, 'estimator__base_estimator__kernel': 'rbf'}\n",
      "-16.192671 (0.220461) with: {'estimator__base_estimator__C': 0.01, 'estimator__base_estimator__epsilon': 0.01, 'estimator__base_estimator__gamma': 0.01, 'estimator__base_estimator__kernel': 'rbf'}\n",
      "-15.774981 (0.221191) with: {'estimator__base_estimator__C': 0.01, 'estimator__base_estimator__epsilon': 0.01, 'estimator__base_estimator__gamma': 0.1, 'estimator__base_estimator__kernel': 'rbf'}\n",
      "-16.706278 (0.214579) with: {'estimator__base_estimator__C': 0.01, 'estimator__base_estimator__epsilon': 0.1, 'estimator__base_estimator__gamma': 0.0001, 'estimator__base_estimator__kernel': 'rbf'}\n",
      "-16.644295 (0.211363) with: {'estimator__base_estimator__C': 0.01, 'estimator__base_estimator__epsilon': 0.1, 'estimator__base_estimator__gamma': 0.001, 'estimator__base_estimator__kernel': 'rbf'}\n",
      "-16.193926 (0.219953) with: {'estimator__base_estimator__C': 0.01, 'estimator__base_estimator__epsilon': 0.1, 'estimator__base_estimator__gamma': 0.01, 'estimator__base_estimator__kernel': 'rbf'}\n",
      "-15.770962 (0.219731) with: {'estimator__base_estimator__C': 0.01, 'estimator__base_estimator__epsilon': 0.1, 'estimator__base_estimator__gamma': 0.1, 'estimator__base_estimator__kernel': 'rbf'}\n",
      "-16.711747 (0.224011) with: {'estimator__base_estimator__C': 0.01, 'estimator__base_estimator__epsilon': 1.0, 'estimator__base_estimator__gamma': 0.0001, 'estimator__base_estimator__kernel': 'rbf'}\n",
      "-16.655798 (0.219622) with: {'estimator__base_estimator__C': 0.01, 'estimator__base_estimator__epsilon': 1.0, 'estimator__base_estimator__gamma': 0.001, 'estimator__base_estimator__kernel': 'rbf'}\n",
      "-16.198689 (0.226651) with: {'estimator__base_estimator__C': 0.01, 'estimator__base_estimator__epsilon': 1.0, 'estimator__base_estimator__gamma': 0.01, 'estimator__base_estimator__kernel': 'rbf'}\n",
      "-15.766254 (0.221525) with: {'estimator__base_estimator__C': 0.01, 'estimator__base_estimator__epsilon': 1.0, 'estimator__base_estimator__gamma': 0.1, 'estimator__base_estimator__kernel': 'rbf'}\n",
      "-16.966653 (0.137112) with: {'estimator__base_estimator__C': 0.01, 'estimator__base_estimator__epsilon': 10.0, 'estimator__base_estimator__gamma': 0.0001, 'estimator__base_estimator__kernel': 'rbf'}\n",
      "-16.926515 (0.138029) with: {'estimator__base_estimator__C': 0.01, 'estimator__base_estimator__epsilon': 10.0, 'estimator__base_estimator__gamma': 0.001, 'estimator__base_estimator__kernel': 'rbf'}\n",
      "-16.569906 (0.140485) with: {'estimator__base_estimator__C': 0.01, 'estimator__base_estimator__epsilon': 10.0, 'estimator__base_estimator__gamma': 0.01, 'estimator__base_estimator__kernel': 'rbf'}\n",
      "-16.276444 (0.140182) with: {'estimator__base_estimator__C': 0.01, 'estimator__base_estimator__epsilon': 10.0, 'estimator__base_estimator__gamma': 0.1, 'estimator__base_estimator__kernel': 'rbf'}\n",
      "-19.113370 (0.026325) with: {'estimator__base_estimator__C': 0.01, 'estimator__base_estimator__epsilon': 100.0, 'estimator__base_estimator__gamma': 0.0001, 'estimator__base_estimator__kernel': 'rbf'}\n",
      "-19.113370 (0.026325) with: {'estimator__base_estimator__C': 0.01, 'estimator__base_estimator__epsilon': 100.0, 'estimator__base_estimator__gamma': 0.001, 'estimator__base_estimator__kernel': 'rbf'}\n",
      "-19.113370 (0.026325) with: {'estimator__base_estimator__C': 0.01, 'estimator__base_estimator__epsilon': 100.0, 'estimator__base_estimator__gamma': 0.01, 'estimator__base_estimator__kernel': 'rbf'}\n",
      "-19.113370 (0.026325) with: {'estimator__base_estimator__C': 0.01, 'estimator__base_estimator__epsilon': 100.0, 'estimator__base_estimator__gamma': 0.1, 'estimator__base_estimator__kernel': 'rbf'}\n",
      "-16.673877 (0.202245) with: {'estimator__base_estimator__C': 0.1, 'estimator__base_estimator__epsilon': 0.001, 'estimator__base_estimator__gamma': 0.0001, 'estimator__base_estimator__kernel': 'rbf'}\n",
      "-15.961624 (0.220489) with: {'estimator__base_estimator__C': 0.1, 'estimator__base_estimator__epsilon': 0.001, 'estimator__base_estimator__gamma': 0.001, 'estimator__base_estimator__kernel': 'rbf'}\n",
      "-11.988314 (0.230568) with: {'estimator__base_estimator__C': 0.1, 'estimator__base_estimator__epsilon': 0.001, 'estimator__base_estimator__gamma': 0.01, 'estimator__base_estimator__kernel': 'rbf'}\n",
      "-9.425598 (0.148486) with: {'estimator__base_estimator__C': 0.1, 'estimator__base_estimator__epsilon': 0.001, 'estimator__base_estimator__gamma': 0.1, 'estimator__base_estimator__kernel': 'rbf'}\n",
      "-16.673676 (0.202681) with: {'estimator__base_estimator__C': 0.1, 'estimator__base_estimator__epsilon': 0.01, 'estimator__base_estimator__gamma': 0.0001, 'estimator__base_estimator__kernel': 'rbf'}\n",
      "-15.961768 (0.220415) with: {'estimator__base_estimator__C': 0.1, 'estimator__base_estimator__epsilon': 0.01, 'estimator__base_estimator__gamma': 0.001, 'estimator__base_estimator__kernel': 'rbf'}\n",
      "-11.989001 (0.231447) with: {'estimator__base_estimator__C': 0.1, 'estimator__base_estimator__epsilon': 0.01, 'estimator__base_estimator__gamma': 0.01, 'estimator__base_estimator__kernel': 'rbf'}\n",
      "-9.426270 (0.147094) with: {'estimator__base_estimator__C': 0.1, 'estimator__base_estimator__epsilon': 0.01, 'estimator__base_estimator__gamma': 0.1, 'estimator__base_estimator__kernel': 'rbf'}\n",
      "-16.671534 (0.200745) with: {'estimator__base_estimator__C': 0.1, 'estimator__base_estimator__epsilon': 0.1, 'estimator__base_estimator__gamma': 0.0001, 'estimator__base_estimator__kernel': 'rbf'}\n",
      "-15.963276 (0.221274) with: {'estimator__base_estimator__C': 0.1, 'estimator__base_estimator__epsilon': 0.1, 'estimator__base_estimator__gamma': 0.001, 'estimator__base_estimator__kernel': 'rbf'}\n",
      "-11.975021 (0.238083) with: {'estimator__base_estimator__C': 0.1, 'estimator__base_estimator__epsilon': 0.1, 'estimator__base_estimator__gamma': 0.01, 'estimator__base_estimator__kernel': 'rbf'}\n",
      "-9.435458 (0.142558) with: {'estimator__base_estimator__C': 0.1, 'estimator__base_estimator__epsilon': 0.1, 'estimator__base_estimator__gamma': 0.1, 'estimator__base_estimator__kernel': 'rbf'}\n",
      "-16.673962 (0.221530) with: {'estimator__base_estimator__C': 0.1, 'estimator__base_estimator__epsilon': 1.0, 'estimator__base_estimator__gamma': 0.0001, 'estimator__base_estimator__kernel': 'rbf'}\n",
      "-15.969633 (0.222601) with: {'estimator__base_estimator__C': 0.1, 'estimator__base_estimator__epsilon': 1.0, 'estimator__base_estimator__gamma': 0.001, 'estimator__base_estimator__kernel': 'rbf'}\n",
      "-11.912147 (0.210801) with: {'estimator__base_estimator__C': 0.1, 'estimator__base_estimator__epsilon': 1.0, 'estimator__base_estimator__gamma': 0.01, 'estimator__base_estimator__kernel': 'rbf'}\n",
      "-9.582621 (0.116070) with: {'estimator__base_estimator__C': 0.1, 'estimator__base_estimator__epsilon': 1.0, 'estimator__base_estimator__gamma': 0.1, 'estimator__base_estimator__kernel': 'rbf'}\n",
      "-16.932327 (0.140717) with: {'estimator__base_estimator__C': 0.1, 'estimator__base_estimator__epsilon': 10.0, 'estimator__base_estimator__gamma': 0.0001, 'estimator__base_estimator__kernel': 'rbf'}\n",
      "-16.447078 (0.159673) with: {'estimator__base_estimator__C': 0.1, 'estimator__base_estimator__epsilon': 10.0, 'estimator__base_estimator__gamma': 0.001, 'estimator__base_estimator__kernel': 'rbf'}\n",
      "-14.002145 (0.145249) with: {'estimator__base_estimator__C': 0.1, 'estimator__base_estimator__epsilon': 10.0, 'estimator__base_estimator__gamma': 0.01, 'estimator__base_estimator__kernel': 'rbf'}\n",
      "-12.667783 (0.097742) with: {'estimator__base_estimator__C': 0.1, 'estimator__base_estimator__epsilon': 10.0, 'estimator__base_estimator__gamma': 0.1, 'estimator__base_estimator__kernel': 'rbf'}\n",
      "-19.113370 (0.026325) with: {'estimator__base_estimator__C': 0.1, 'estimator__base_estimator__epsilon': 100.0, 'estimator__base_estimator__gamma': 0.0001, 'estimator__base_estimator__kernel': 'rbf'}\n",
      "-19.113370 (0.026325) with: {'estimator__base_estimator__C': 0.1, 'estimator__base_estimator__epsilon': 100.0, 'estimator__base_estimator__gamma': 0.001, 'estimator__base_estimator__kernel': 'rbf'}\n",
      "-19.113370 (0.026325) with: {'estimator__base_estimator__C': 0.1, 'estimator__base_estimator__epsilon': 100.0, 'estimator__base_estimator__gamma': 0.01, 'estimator__base_estimator__kernel': 'rbf'}\n",
      "-19.113370 (0.026325) with: {'estimator__base_estimator__C': 0.1, 'estimator__base_estimator__epsilon': 100.0, 'estimator__base_estimator__gamma': 0.1, 'estimator__base_estimator__kernel': 'rbf'}\n",
      "-16.127606 (0.203805) with: {'estimator__base_estimator__C': 1.0, 'estimator__base_estimator__epsilon': 0.001, 'estimator__base_estimator__gamma': 0.0001, 'estimator__base_estimator__kernel': 'rbf'}\n",
      "-11.150328 (0.192763) with: {'estimator__base_estimator__C': 1.0, 'estimator__base_estimator__epsilon': 0.001, 'estimator__base_estimator__gamma': 0.001, 'estimator__base_estimator__kernel': 'rbf'}\n",
      "-5.919275 (0.072875) with: {'estimator__base_estimator__C': 1.0, 'estimator__base_estimator__epsilon': 0.001, 'estimator__base_estimator__gamma': 0.01, 'estimator__base_estimator__kernel': 'rbf'}\n",
      "-3.695041 (0.055595) with: {'estimator__base_estimator__C': 1.0, 'estimator__base_estimator__epsilon': 0.001, 'estimator__base_estimator__gamma': 0.1, 'estimator__base_estimator__kernel': 'rbf'}\n",
      "-16.127461 (0.204391) with: {'estimator__base_estimator__C': 1.0, 'estimator__base_estimator__epsilon': 0.01, 'estimator__base_estimator__gamma': 0.0001, 'estimator__base_estimator__kernel': 'rbf'}\n",
      "-11.149616 (0.193837) with: {'estimator__base_estimator__C': 1.0, 'estimator__base_estimator__epsilon': 0.01, 'estimator__base_estimator__gamma': 0.001, 'estimator__base_estimator__kernel': 'rbf'}\n",
      "-5.919410 (0.073255) with: {'estimator__base_estimator__C': 1.0, 'estimator__base_estimator__epsilon': 0.01, 'estimator__base_estimator__gamma': 0.01, 'estimator__base_estimator__kernel': 'rbf'}\n",
      "-3.694929 (0.055640) with: {'estimator__base_estimator__C': 1.0, 'estimator__base_estimator__epsilon': 0.01, 'estimator__base_estimator__gamma': 0.1, 'estimator__base_estimator__kernel': 'rbf'}\n",
      "-16.130423 (0.205998) with: {'estimator__base_estimator__C': 1.0, 'estimator__base_estimator__epsilon': 0.1, 'estimator__base_estimator__gamma': 0.0001, 'estimator__base_estimator__kernel': 'rbf'}\n",
      "-11.149606 (0.202402) with: {'estimator__base_estimator__C': 1.0, 'estimator__base_estimator__epsilon': 0.1, 'estimator__base_estimator__gamma': 0.001, 'estimator__base_estimator__kernel': 'rbf'}\n",
      "-5.919134 (0.072571) with: {'estimator__base_estimator__C': 1.0, 'estimator__base_estimator__epsilon': 0.1, 'estimator__base_estimator__gamma': 0.01, 'estimator__base_estimator__kernel': 'rbf'}\n",
      "-3.693128 (0.054576) with: {'estimator__base_estimator__C': 1.0, 'estimator__base_estimator__epsilon': 0.1, 'estimator__base_estimator__gamma': 0.1, 'estimator__base_estimator__kernel': 'rbf'}\n",
      "-16.142063 (0.206486) with: {'estimator__base_estimator__C': 1.0, 'estimator__base_estimator__epsilon': 1.0, 'estimator__base_estimator__gamma': 0.0001, 'estimator__base_estimator__kernel': 'rbf'}\n",
      "-11.200594 (0.204013) with: {'estimator__base_estimator__C': 1.0, 'estimator__base_estimator__epsilon': 1.0, 'estimator__base_estimator__gamma': 0.001, 'estimator__base_estimator__kernel': 'rbf'}\n",
      "-5.896557 (0.080782) with: {'estimator__base_estimator__C': 1.0, 'estimator__base_estimator__epsilon': 1.0, 'estimator__base_estimator__gamma': 0.01, 'estimator__base_estimator__kernel': 'rbf'}\n",
      "-3.779093 (0.060512) with: {'estimator__base_estimator__C': 1.0, 'estimator__base_estimator__epsilon': 1.0, 'estimator__base_estimator__gamma': 0.1, 'estimator__base_estimator__kernel': 'rbf'}\n",
      "-16.463823 (0.164307) with: {'estimator__base_estimator__C': 1.0, 'estimator__base_estimator__epsilon': 10.0, 'estimator__base_estimator__gamma': 0.0001, 'estimator__base_estimator__kernel': 'rbf'}\n",
      "-13.066939 (0.117728) with: {'estimator__base_estimator__C': 1.0, 'estimator__base_estimator__epsilon': 10.0, 'estimator__base_estimator__gamma': 0.001, 'estimator__base_estimator__kernel': 'rbf'}\n",
      "-10.673961 (0.029575) with: {'estimator__base_estimator__C': 1.0, 'estimator__base_estimator__epsilon': 10.0, 'estimator__base_estimator__gamma': 0.01, 'estimator__base_estimator__kernel': 'rbf'}\n",
      "-10.420022 (0.049715) with: {'estimator__base_estimator__C': 1.0, 'estimator__base_estimator__epsilon': 10.0, 'estimator__base_estimator__gamma': 0.1, 'estimator__base_estimator__kernel': 'rbf'}\n",
      "-19.113370 (0.026325) with: {'estimator__base_estimator__C': 1.0, 'estimator__base_estimator__epsilon': 100.0, 'estimator__base_estimator__gamma': 0.0001, 'estimator__base_estimator__kernel': 'rbf'}\n",
      "-19.113370 (0.026325) with: {'estimator__base_estimator__C': 1.0, 'estimator__base_estimator__epsilon': 100.0, 'estimator__base_estimator__gamma': 0.001, 'estimator__base_estimator__kernel': 'rbf'}\n",
      "-19.113370 (0.026325) with: {'estimator__base_estimator__C': 1.0, 'estimator__base_estimator__epsilon': 100.0, 'estimator__base_estimator__gamma': 0.01, 'estimator__base_estimator__kernel': 'rbf'}\n",
      "-19.113370 (0.026325) with: {'estimator__base_estimator__C': 1.0, 'estimator__base_estimator__epsilon': 100.0, 'estimator__base_estimator__gamma': 0.1, 'estimator__base_estimator__kernel': 'rbf'}\n",
      "-10.765895 (0.177696) with: {'estimator__base_estimator__C': 10.0, 'estimator__base_estimator__epsilon': 0.001, 'estimator__base_estimator__gamma': 0.0001, 'estimator__base_estimator__kernel': 'rbf'}\n",
      "-6.284316 (0.050662) with: {'estimator__base_estimator__C': 10.0, 'estimator__base_estimator__epsilon': 0.001, 'estimator__base_estimator__gamma': 0.001, 'estimator__base_estimator__kernel': 'rbf'}\n",
      "-4.023516 (0.064004) with: {'estimator__base_estimator__C': 10.0, 'estimator__base_estimator__epsilon': 0.001, 'estimator__base_estimator__gamma': 0.01, 'estimator__base_estimator__kernel': 'rbf'}\n",
      "-3.410214 (0.099195) with: {'estimator__base_estimator__C': 10.0, 'estimator__base_estimator__epsilon': 0.001, 'estimator__base_estimator__gamma': 0.1, 'estimator__base_estimator__kernel': 'rbf'}\n",
      "-10.766961 (0.177900) with: {'estimator__base_estimator__C': 10.0, 'estimator__base_estimator__epsilon': 0.01, 'estimator__base_estimator__gamma': 0.0001, 'estimator__base_estimator__kernel': 'rbf'}\n",
      "-6.286133 (0.053277) with: {'estimator__base_estimator__C': 10.0, 'estimator__base_estimator__epsilon': 0.01, 'estimator__base_estimator__gamma': 0.001, 'estimator__base_estimator__kernel': 'rbf'}\n",
      "-4.025088 (0.063681) with: {'estimator__base_estimator__C': 10.0, 'estimator__base_estimator__epsilon': 0.01, 'estimator__base_estimator__gamma': 0.01, 'estimator__base_estimator__kernel': 'rbf'}\n",
      "-3.409289 (0.098660) with: {'estimator__base_estimator__C': 10.0, 'estimator__base_estimator__epsilon': 0.01, 'estimator__base_estimator__gamma': 0.1, 'estimator__base_estimator__kernel': 'rbf'}\n",
      "-10.770636 (0.169141) with: {'estimator__base_estimator__C': 10.0, 'estimator__base_estimator__epsilon': 0.1, 'estimator__base_estimator__gamma': 0.0001, 'estimator__base_estimator__kernel': 'rbf'}\n",
      "-6.302802 (0.058167) with: {'estimator__base_estimator__C': 10.0, 'estimator__base_estimator__epsilon': 0.1, 'estimator__base_estimator__gamma': 0.001, 'estimator__base_estimator__kernel': 'rbf'}\n",
      "-4.023912 (0.069708) with: {'estimator__base_estimator__C': 10.0, 'estimator__base_estimator__epsilon': 0.1, 'estimator__base_estimator__gamma': 0.01, 'estimator__base_estimator__kernel': 'rbf'}\n",
      "-3.397486 (0.089443) with: {'estimator__base_estimator__C': 10.0, 'estimator__base_estimator__epsilon': 0.1, 'estimator__base_estimator__gamma': 0.1, 'estimator__base_estimator__kernel': 'rbf'}\n",
      "-10.834934 (0.164761) with: {'estimator__base_estimator__C': 10.0, 'estimator__base_estimator__epsilon': 1.0, 'estimator__base_estimator__gamma': 0.0001, 'estimator__base_estimator__kernel': 'rbf'}\n",
      "-6.396909 (0.077935) with: {'estimator__base_estimator__C': 10.0, 'estimator__base_estimator__epsilon': 1.0, 'estimator__base_estimator__gamma': 0.001, 'estimator__base_estimator__kernel': 'rbf'}\n",
      "-4.032342 (0.111504) with: {'estimator__base_estimator__C': 10.0, 'estimator__base_estimator__epsilon': 1.0, 'estimator__base_estimator__gamma': 0.01, 'estimator__base_estimator__kernel': 'rbf'}\n",
      "-3.418160 (0.066527) with: {'estimator__base_estimator__C': 10.0, 'estimator__base_estimator__epsilon': 1.0, 'estimator__base_estimator__gamma': 0.1, 'estimator__base_estimator__kernel': 'rbf'}\n",
      "-13.182062 (0.129320) with: {'estimator__base_estimator__C': 10.0, 'estimator__base_estimator__epsilon': 10.0, 'estimator__base_estimator__gamma': 0.0001, 'estimator__base_estimator__kernel': 'rbf'}\n",
      "-8.671631 (0.037186) with: {'estimator__base_estimator__C': 10.0, 'estimator__base_estimator__epsilon': 10.0, 'estimator__base_estimator__gamma': 0.001, 'estimator__base_estimator__kernel': 'rbf'}\n",
      "-9.375176 (0.056367) with: {'estimator__base_estimator__C': 10.0, 'estimator__base_estimator__epsilon': 10.0, 'estimator__base_estimator__gamma': 0.01, 'estimator__base_estimator__kernel': 'rbf'}\n",
      "-9.865001 (0.133614) with: {'estimator__base_estimator__C': 10.0, 'estimator__base_estimator__epsilon': 10.0, 'estimator__base_estimator__gamma': 0.1, 'estimator__base_estimator__kernel': 'rbf'}\n",
      "-19.113370 (0.026325) with: {'estimator__base_estimator__C': 10.0, 'estimator__base_estimator__epsilon': 100.0, 'estimator__base_estimator__gamma': 0.0001, 'estimator__base_estimator__kernel': 'rbf'}\n",
      "-19.113370 (0.026325) with: {'estimator__base_estimator__C': 10.0, 'estimator__base_estimator__epsilon': 100.0, 'estimator__base_estimator__gamma': 0.001, 'estimator__base_estimator__kernel': 'rbf'}\n",
      "-19.113370 (0.026325) with: {'estimator__base_estimator__C': 10.0, 'estimator__base_estimator__epsilon': 100.0, 'estimator__base_estimator__gamma': 0.01, 'estimator__base_estimator__kernel': 'rbf'}\n",
      "-19.113370 (0.026325) with: {'estimator__base_estimator__C': 10.0, 'estimator__base_estimator__epsilon': 100.0, 'estimator__base_estimator__gamma': 0.1, 'estimator__base_estimator__kernel': 'rbf'}\n",
      "-6.325849 (0.094205) with: {'estimator__base_estimator__C': 100.0, 'estimator__base_estimator__epsilon': 0.001, 'estimator__base_estimator__gamma': 0.0001, 'estimator__base_estimator__kernel': 'rbf'}\n",
      "-5.414373 (0.087293) with: {'estimator__base_estimator__C': 100.0, 'estimator__base_estimator__epsilon': 0.001, 'estimator__base_estimator__gamma': 0.001, 'estimator__base_estimator__kernel': 'rbf'}\n",
      "-3.692614 (0.025159) with: {'estimator__base_estimator__C': 100.0, 'estimator__base_estimator__epsilon': 0.001, 'estimator__base_estimator__gamma': 0.01, 'estimator__base_estimator__kernel': 'rbf'}\n",
      "-3.403059 (0.192220) with: {'estimator__base_estimator__C': 100.0, 'estimator__base_estimator__epsilon': 0.001, 'estimator__base_estimator__gamma': 0.1, 'estimator__base_estimator__kernel': 'rbf'}\n",
      "-6.324064 (0.095006) with: {'estimator__base_estimator__C': 100.0, 'estimator__base_estimator__epsilon': 0.01, 'estimator__base_estimator__gamma': 0.0001, 'estimator__base_estimator__kernel': 'rbf'}\n",
      "-5.412192 (0.087729) with: {'estimator__base_estimator__C': 100.0, 'estimator__base_estimator__epsilon': 0.01, 'estimator__base_estimator__gamma': 0.001, 'estimator__base_estimator__kernel': 'rbf'}\n",
      "-3.692129 (0.023686) with: {'estimator__base_estimator__C': 100.0, 'estimator__base_estimator__epsilon': 0.01, 'estimator__base_estimator__gamma': 0.01, 'estimator__base_estimator__kernel': 'rbf'}\n",
      "-3.401634 (0.191545) with: {'estimator__base_estimator__C': 100.0, 'estimator__base_estimator__epsilon': 0.01, 'estimator__base_estimator__gamma': 0.1, 'estimator__base_estimator__kernel': 'rbf'}\n",
      "-6.321136 (0.088132) with: {'estimator__base_estimator__C': 100.0, 'estimator__base_estimator__epsilon': 0.1, 'estimator__base_estimator__gamma': 0.0001, 'estimator__base_estimator__kernel': 'rbf'}\n",
      "-5.408692 (0.088162) with: {'estimator__base_estimator__C': 100.0, 'estimator__base_estimator__epsilon': 0.1, 'estimator__base_estimator__gamma': 0.001, 'estimator__base_estimator__kernel': 'rbf'}\n",
      "-3.689967 (0.018637) with: {'estimator__base_estimator__C': 100.0, 'estimator__base_estimator__epsilon': 0.1, 'estimator__base_estimator__gamma': 0.01, 'estimator__base_estimator__kernel': 'rbf'}\n",
      "-3.391483 (0.185671) with: {'estimator__base_estimator__C': 100.0, 'estimator__base_estimator__epsilon': 0.1, 'estimator__base_estimator__gamma': 0.1, 'estimator__base_estimator__kernel': 'rbf'}\n",
      "-6.366933 (0.095334) with: {'estimator__base_estimator__C': 100.0, 'estimator__base_estimator__epsilon': 1.0, 'estimator__base_estimator__gamma': 0.0001, 'estimator__base_estimator__kernel': 'rbf'}\n",
      "-5.448377 (0.103874) with: {'estimator__base_estimator__C': 100.0, 'estimator__base_estimator__epsilon': 1.0, 'estimator__base_estimator__gamma': 0.001, 'estimator__base_estimator__kernel': 'rbf'}\n",
      "-3.671676 (0.022980) with: {'estimator__base_estimator__C': 100.0, 'estimator__base_estimator__epsilon': 1.0, 'estimator__base_estimator__gamma': 0.01, 'estimator__base_estimator__kernel': 'rbf'}\n",
      "-3.452584 (0.148369) with: {'estimator__base_estimator__C': 100.0, 'estimator__base_estimator__epsilon': 1.0, 'estimator__base_estimator__gamma': 0.1, 'estimator__base_estimator__kernel': 'rbf'}\n",
      "-8.823166 (0.046158) with: {'estimator__base_estimator__C': 100.0, 'estimator__base_estimator__epsilon': 10.0, 'estimator__base_estimator__gamma': 0.0001, 'estimator__base_estimator__kernel': 'rbf'}\n",
      "-7.629142 (0.031395) with: {'estimator__base_estimator__C': 100.0, 'estimator__base_estimator__epsilon': 10.0, 'estimator__base_estimator__gamma': 0.001, 'estimator__base_estimator__kernel': 'rbf'}\n",
      "-8.825250 (0.088296) with: {'estimator__base_estimator__C': 100.0, 'estimator__base_estimator__epsilon': 10.0, 'estimator__base_estimator__gamma': 0.01, 'estimator__base_estimator__kernel': 'rbf'}\n",
      "-9.848989 (0.132021) with: {'estimator__base_estimator__C': 100.0, 'estimator__base_estimator__epsilon': 10.0, 'estimator__base_estimator__gamma': 0.1, 'estimator__base_estimator__kernel': 'rbf'}\n",
      "-19.113370 (0.026325) with: {'estimator__base_estimator__C': 100.0, 'estimator__base_estimator__epsilon': 100.0, 'estimator__base_estimator__gamma': 0.0001, 'estimator__base_estimator__kernel': 'rbf'}\n",
      "-19.113370 (0.026325) with: {'estimator__base_estimator__C': 100.0, 'estimator__base_estimator__epsilon': 100.0, 'estimator__base_estimator__gamma': 0.001, 'estimator__base_estimator__kernel': 'rbf'}\n",
      "-19.113370 (0.026325) with: {'estimator__base_estimator__C': 100.0, 'estimator__base_estimator__epsilon': 100.0, 'estimator__base_estimator__gamma': 0.01, 'estimator__base_estimator__kernel': 'rbf'}\n",
      "-19.113370 (0.026325) with: {'estimator__base_estimator__C': 100.0, 'estimator__base_estimator__epsilon': 100.0, 'estimator__base_estimator__gamma': 0.1, 'estimator__base_estimator__kernel': 'rbf'}\n",
      "Best parameters:{'estimator__base_estimator__C': 100.0, 'estimator__base_estimator__epsilon': 0.1, 'estimator__base_estimator__gamma': 0.1, 'estimator__base_estimator__kernel': 'rbf'}\n",
      "Best training accuracy:-3.391483255695864\n",
      "VR dataset accuracy score for best params:0.9361666932835545\n",
      "Mean_euclidean_error for VR dataset :3.125407622470902\n",
      "Mean_euclidean_error for TR dataset :1.6964022283604905\n",
      "Mean_euclidean_error for TS dataset :3.165635785134591\n",
      "Best model :Pipeline(memory=None,\n",
      "         steps=[('scale',\n",
      "                 StandardScaler(copy=True, with_mean=True, with_std=True)),\n",
      "                ('estimator',\n",
      "                 RegressorChain(base_estimator=SVR(C=100.0, cache_size=200,\n",
      "                                                   coef0=0.0, degree=3,\n",
      "                                                   epsilon=0.1, gamma=0.1,\n",
      "                                                   kernel='rbf', max_iter=-1,\n",
      "                                                   shrinking=True, tol=0.001,\n",
      "                                                   verbose=False),\n",
      "                                cv=None, order=None, random_state=None))],\n",
      "         verbose=False)\n",
      "Total time :6.460731267929077\n"
     ]
    },
    {
     "name": "stderr",
     "output_type": "stream",
     "text": [
      "/home/anelay/anaconda3/lib/python3.7/site-packages/ipykernel_launcher.py:50: MatplotlibDeprecationWarning: Unrecognized location 'Best'. Falling back on 'best'; valid locations are\n",
      "\tbest\n",
      "\tupper right\n",
      "\tupper left\n",
      "\tlower left\n",
      "\tlower right\n",
      "\tright\n",
      "\tcenter left\n",
      "\tcenter right\n",
      "\tlower center\n",
      "\tupper center\n",
      "\tcenter\n",
      "This will raise an exception in 3.3.\n"
     ]
    },
    {
     "data": {
      "image/png": "[encoded data removed]",
      "text/plain": [
       "<Figure size 720x720 with 1 Axes>"
      ]
     },
     "metadata": {
      "needs_background": "light"
     },
     "output_type": "display_data"
    }
   ],
   "source": [
    "\"\"\" Gridsearch and Learning curve\"\"\"\n",
    "start = time.time()\n",
    "for i in range(1):\n",
    "    Grid = GridSearchCV(\n",
    "        estimator=chin_svr,\n",
    "        param_grid=chinesvr_params,\n",
    "        scoring = mee,\n",
    "        n_jobs=-1,\n",
    "        cv=3,\n",
    "        verbose=1,\n",
    "        ).fit(x_train, y_train)\n",
    "    \n",
    "    \n",
    "    print(\"Mean\\tSTD\\tParams\")\n",
    "    means = Grid.cv_results_['mean_test_score']\n",
    "    stds = Grid.cv_results_['std_test_score']\n",
    "    params = Grid.cv_results_['params']\n",
    "    \n",
    "    for mean, stdev, param in  (zip(means, stds, params)):\n",
    "        print(\"%f (%f) with: %r\" % (mean, stdev, param))\n",
    "    \n",
    "    y_pred = Grid.predict(x_val)\n",
    "    y_pred_train = Grid.predict(x_train)\n",
    "    y_tpred = Grid.predict(x_test)\n",
    "    (train_sizes, train_scores, test_scores) = \\\n",
    "        learning_curve(Grid.best_estimator_, x_train, y_train, cv=3,\n",
    "                       n_jobs=-1)\n",
    "    df = pd.DataFrame(list(zip(means, stds, params)),  columns =['means', 'stds', 'params']).sort_values(by=['means'])\n",
    "    df\n",
    "    print(f\"Best parameters:{Grid.best_params_}\")\n",
    "    print(f\"Best training accuracy:{Grid.best_score_}\")\n",
    "    print(f\"VR dataset accuracy score for best params:{r2_score(y_val, y_pred)}\" )\n",
    "    print(f\"Mean_euclidean_error for VR dataset :{mean_euclidean_error(y_val, y_pred)}\" )\n",
    "    print(f\"Mean_euclidean_error for TR dataset :{mean_euclidean_error(y_train, y_pred_train)}\" )\n",
    "    print(f\"Mean_euclidean_error for TS dataset :{mean_euclidean_error(y_test, y_tpred)}\" )\n",
    "    print(f\"Best model :{Grid.best_estimator_}\")\n",
    "    end = time.time()\n",
    "    print(f\"Total time :{end - start}\")\n",
    "    (fig, ax) = plt.subplots(1, figsize=(10, 10))\n",
    "    ax.grid(linestyle='-', linewidth='0.5', color='black')\n",
    "    ax.set_axisbelow(True)\n",
    "    plt.plot(train_sizes, train_scores_mean,\n",
    "             label='TR', linewidth=3.0, ls='solid', c='red')\n",
    "\n",
    "    plt.plot(train_sizes, test_scores_mean,\n",
    "             label='TS', linewidth=3.0, ls='dotted', c='blue')\n",
    "    plt.title(f\"Learning curve for RegressorChain SVR  )\",fontsize=16)\n",
    "    plt.xlabel('Training examples',fontsize=20)\n",
    "    plt.ylabel('Score',fontsize=20)\n",
    "    plt.legend(loc='Best',prop={\"size\":20})\n",
    "    for label in (ax.get_xticklabels() + ax.get_yticklabels()):\n",
    "            label.set_fontsize(16)\n",
    "    plt.tight_layout()\n",
    "    plt.savefig('KNN')\n",
    "    plt.show()"
   ]
  },
  {
   "cell_type": "code",
   "execution_count": 76,
   "metadata": {},
   "outputs": [
    {
     "data": {
      "text/plain": [
       "{'estimator__base_estimator__C': 1.0,\n",
       " 'estimator__base_estimator__epsilon': 0.1,\n",
       " 'estimator__base_estimator__gamma': 0.1,\n",
       " 'estimator__base_estimator__kernel': 'rbf'}"
      ]
     },
     "execution_count": 76,
     "metadata": {},
     "output_type": "execute_result"
    }
   ],
   "source": [
    " df.iloc[131].params"
   ]
  },
  {
   "cell_type": "code",
   "execution_count": null,
   "metadata": {},
   "outputs": [],
   "source": [
    "np.logspace(-3, 2, 6)"
   ]
  },
  {
   "cell_type": "code",
   "execution_count": null,
   "metadata": {},
   "outputs": [],
   "source": [
    "np.logspace(-3, 2, 6)"
   ]
  },
  {
   "cell_type": "code",
   "execution_count": 75,
   "metadata": {},
   "outputs": [
    {
     "data": {
      "text/html": [
       "<div>\n",
       "<style scoped>\n",
       "    .dataframe tbody tr th:only-of-type {\n",
       "        vertical-align: middle;\n",
       "    }\n",
       "\n",
       "    .dataframe tbody tr th {\n",
       "        vertical-align: top;\n",
       "    }\n",
       "\n",
       "    .dataframe thead th {\n",
       "        text-align: right;\n",
       "    }\n",
       "</style>\n",
       "<table border=\"1\" class=\"dataframe\">\n",
       "  <thead>\n",
       "    <tr style=\"text-align: right;\">\n",
       "      <th></th>\n",
       "      <th>means</th>\n",
       "      <th>stds</th>\n",
       "      <th>params</th>\n",
       "    </tr>\n",
       "  </thead>\n",
       "  <tbody>\n",
       "    <tr>\n",
       "      <th>71</th>\n",
       "      <td>-19.113370</td>\n",
       "      <td>0.026325</td>\n",
       "      <td>{'estimator__base_estimator__C': 0.1, 'estimat...</td>\n",
       "    </tr>\n",
       "    <tr>\n",
       "      <th>44</th>\n",
       "      <td>-19.113370</td>\n",
       "      <td>0.026325</td>\n",
       "      <td>{'estimator__base_estimator__C': 0.01, 'estima...</td>\n",
       "    </tr>\n",
       "    <tr>\n",
       "      <th>45</th>\n",
       "      <td>-19.113370</td>\n",
       "      <td>0.026325</td>\n",
       "      <td>{'estimator__base_estimator__C': 0.01, 'estima...</td>\n",
       "    </tr>\n",
       "    <tr>\n",
       "      <th>46</th>\n",
       "      <td>-19.113370</td>\n",
       "      <td>0.026325</td>\n",
       "      <td>{'estimator__base_estimator__C': 0.01, 'estima...</td>\n",
       "    </tr>\n",
       "    <tr>\n",
       "      <th>47</th>\n",
       "      <td>-19.113370</td>\n",
       "      <td>0.026325</td>\n",
       "      <td>{'estimator__base_estimator__C': 0.01, 'estima...</td>\n",
       "    </tr>\n",
       "    <tr>\n",
       "      <th>...</th>\n",
       "      <td>...</td>\n",
       "      <td>...</td>\n",
       "      <td>...</td>\n",
       "    </tr>\n",
       "    <tr>\n",
       "      <th>103</th>\n",
       "      <td>-3.409289</td>\n",
       "      <td>0.098660</td>\n",
       "      <td>{'estimator__base_estimator__C': 10.0, 'estima...</td>\n",
       "    </tr>\n",
       "    <tr>\n",
       "      <th>123</th>\n",
       "      <td>-3.403059</td>\n",
       "      <td>0.192220</td>\n",
       "      <td>{'estimator__base_estimator__C': 100.0, 'estim...</td>\n",
       "    </tr>\n",
       "    <tr>\n",
       "      <th>127</th>\n",
       "      <td>-3.401634</td>\n",
       "      <td>0.191545</td>\n",
       "      <td>{'estimator__base_estimator__C': 100.0, 'estim...</td>\n",
       "    </tr>\n",
       "    <tr>\n",
       "      <th>107</th>\n",
       "      <td>-3.397486</td>\n",
       "      <td>0.089443</td>\n",
       "      <td>{'estimator__base_estimator__C': 10.0, 'estima...</td>\n",
       "    </tr>\n",
       "    <tr>\n",
       "      <th>131</th>\n",
       "      <td>-3.391483</td>\n",
       "      <td>0.185671</td>\n",
       "      <td>{'estimator__base_estimator__C': 100.0, 'estim...</td>\n",
       "    </tr>\n",
       "  </tbody>\n",
       "</table>\n",
       "<p>144 rows × 3 columns</p>\n",
       "</div>"
      ],
      "text/plain": [
       "         means      stds                                             params\n",
       "71  -19.113370  0.026325  {'estimator__base_estimator__C': 0.1, 'estimat...\n",
       "44  -19.113370  0.026325  {'estimator__base_estimator__C': 0.01, 'estima...\n",
       "45  -19.113370  0.026325  {'estimator__base_estimator__C': 0.01, 'estima...\n",
       "46  -19.113370  0.026325  {'estimator__base_estimator__C': 0.01, 'estima...\n",
       "47  -19.113370  0.026325  {'estimator__base_estimator__C': 0.01, 'estima...\n",
       "..         ...       ...                                                ...\n",
       "103  -3.409289  0.098660  {'estimator__base_estimator__C': 10.0, 'estima...\n",
       "123  -3.403059  0.192220  {'estimator__base_estimator__C': 100.0, 'estim...\n",
       "127  -3.401634  0.191545  {'estimator__base_estimator__C': 100.0, 'estim...\n",
       "107  -3.397486  0.089443  {'estimator__base_estimator__C': 10.0, 'estima...\n",
       "131  -3.391483  0.185671  {'estimator__base_estimator__C': 100.0, 'estim...\n",
       "\n",
       "[144 rows x 3 columns]"
      ]
     },
     "execution_count": 75,
     "metadata": {},
     "output_type": "execute_result"
    }
   ],
   "source": [
    "df"
   ]
  },
  {
   "cell_type": "code",
   "execution_count": 77,
   "metadata": {},
   "outputs": [],
   "source": [
    "prova = [\n",
    "    {'estimator__base_estimator__C': 100.0, 'estimator__base_estimator__epsilon': 0.1, 'estimator__base_estimator__gamma': 0.1, 'estimator__base_estimator__kernel': 'rbf'},\n",
    "    {'estimator__base_estimator__C': 10.0, 'estimator__base_estimator__epsilon': 0.1, 'estimator__base_estimator__gamma': 0.1, 'estimator__base_estimator__kernel': 'rbf'},\n",
    "    {'estimator__base_estimator__C': 100.0, 'estimator__base_estimator__epsilon': 0.01, 'estimator__base_estimator__gamma': 0.1, 'estimator__base_estimator__kernel': 'rbf'},\n",
    "    {'estimator__base_estimator__C': 100.0, 'estimator__base_estimator__epsilon': 0.001, 'estimator__base_estimator__gamma': 0.1, 'estimator__base_estimator__kernel': 'rbf'}\n",
    "    ]"
   ]
  },
  {
   "cell_type": "code",
   "execution_count": 82,
   "metadata": {},
   "outputs": [],
   "source": [
    "mean_tr_loss = []\n",
    "mean_vl_loss = [3.391483 , 3.397486, 3.401634, 3.403059]\n",
    "mean_ts_loss = []"
   ]
  },
  {
   "cell_type": "code",
   "execution_count": 80,
   "metadata": {
    "collapsed": true,
    "jupyter": {
     "outputs_hidden": true
    }
   },
   "outputs": [
    {
     "ename": "ValueError",
     "evalue": "Pipeline.fit does not accept the validation_data parameter. You can pass parameters to specific steps of your pipeline using the stepname__parameter format, e.g. `Pipeline.fit(X, y, logisticregression__sample_weight=sample_weight)`.",
     "output_type": "error",
     "traceback": [
      "\u001b[0;31m---------------------------------------------------------------------------\u001b[0m",
      "\u001b[0;31mValueError\u001b[0m                                Traceback (most recent call last)",
      "\u001b[0;32m<ipython-input-80-9ba5ce67dfff>\u001b[0m in \u001b[0;36m<module>\u001b[0;34m\u001b[0m\n\u001b[1;32m      6\u001b[0m                                                    \u001b[0mkernel\u001b[0m\u001b[0;34m=\u001b[0m\u001b[0;34m'rbf'\u001b[0m\u001b[0;34m,\u001b[0m \u001b[0mmax_iter\u001b[0m\u001b[0;34m=\u001b[0m\u001b[0;34m-\u001b[0m\u001b[0;36m1\u001b[0m\u001b[0;34m,\u001b[0m\u001b[0;34m\u001b[0m\u001b[0;34m\u001b[0m\u001b[0m\n\u001b[1;32m      7\u001b[0m                                                    \u001b[0mshrinking\u001b[0m\u001b[0;34m=\u001b[0m\u001b[0;32mTrue\u001b[0m\u001b[0;34m,\u001b[0m \u001b[0mtol\u001b[0m\u001b[0;34m=\u001b[0m\u001b[0;36m0.001\u001b[0m\u001b[0;34m,\u001b[0m\u001b[0;34m\u001b[0m\u001b[0;34m\u001b[0m\u001b[0m\n\u001b[0;32m----> 8\u001b[0;31m                                                    verbose=False)))]).fit(x_train, y_train, validation_data=(x_test, y_test))\n\u001b[0m",
      "\u001b[0;32m~/anaconda3/lib/python3.7/site-packages/sklearn/pipeline.py\u001b[0m in \u001b[0;36mfit\u001b[0;34m(self, X, y, **fit_params)\u001b[0m\n\u001b[1;32m    348\u001b[0m             \u001b[0mThis\u001b[0m \u001b[0mestimator\u001b[0m\u001b[0;34m\u001b[0m\u001b[0;34m\u001b[0m\u001b[0m\n\u001b[1;32m    349\u001b[0m         \"\"\"\n\u001b[0;32m--> 350\u001b[0;31m         \u001b[0mXt\u001b[0m\u001b[0;34m,\u001b[0m \u001b[0mfit_params\u001b[0m \u001b[0;34m=\u001b[0m \u001b[0mself\u001b[0m\u001b[0;34m.\u001b[0m\u001b[0m_fit\u001b[0m\u001b[0;34m(\u001b[0m\u001b[0mX\u001b[0m\u001b[0;34m,\u001b[0m \u001b[0my\u001b[0m\u001b[0;34m,\u001b[0m \u001b[0;34m**\u001b[0m\u001b[0mfit_params\u001b[0m\u001b[0;34m)\u001b[0m\u001b[0;34m\u001b[0m\u001b[0;34m\u001b[0m\u001b[0m\n\u001b[0m\u001b[1;32m    351\u001b[0m         with _print_elapsed_time('Pipeline',\n\u001b[1;32m    352\u001b[0m                                  self._log_message(len(self.steps) - 1)):\n",
      "\u001b[0;32m~/anaconda3/lib/python3.7/site-packages/sklearn/pipeline.py\u001b[0m in \u001b[0;36m_fit\u001b[0;34m(self, X, y, **fit_params)\u001b[0m\n\u001b[1;32m    278\u001b[0m                     \u001b[0;34m\"pipeline using the stepname__parameter format, e.g. \"\u001b[0m\u001b[0;34m\u001b[0m\u001b[0;34m\u001b[0m\u001b[0m\n\u001b[1;32m    279\u001b[0m                     \u001b[0;34m\"`Pipeline.fit(X, y, logisticregression__sample_weight\"\u001b[0m\u001b[0;34m\u001b[0m\u001b[0;34m\u001b[0m\u001b[0m\n\u001b[0;32m--> 280\u001b[0;31m                     \"=sample_weight)`.\".format(pname))\n\u001b[0m\u001b[1;32m    281\u001b[0m             \u001b[0mstep\u001b[0m\u001b[0;34m,\u001b[0m \u001b[0mparam\u001b[0m \u001b[0;34m=\u001b[0m \u001b[0mpname\u001b[0m\u001b[0;34m.\u001b[0m\u001b[0msplit\u001b[0m\u001b[0;34m(\u001b[0m\u001b[0;34m'__'\u001b[0m\u001b[0;34m,\u001b[0m \u001b[0;36m1\u001b[0m\u001b[0;34m)\u001b[0m\u001b[0;34m\u001b[0m\u001b[0;34m\u001b[0m\u001b[0m\n\u001b[1;32m    282\u001b[0m             \u001b[0mfit_params_steps\u001b[0m\u001b[0;34m[\u001b[0m\u001b[0mstep\u001b[0m\u001b[0;34m]\u001b[0m\u001b[0;34m[\u001b[0m\u001b[0mparam\u001b[0m\u001b[0;34m]\u001b[0m \u001b[0;34m=\u001b[0m \u001b[0mpval\u001b[0m\u001b[0;34m\u001b[0m\u001b[0;34m\u001b[0m\u001b[0m\n",
      "\u001b[0;31mValueError\u001b[0m: Pipeline.fit does not accept the validation_data parameter. You can pass parameters to specific steps of your pipeline using the stepname__parameter format, e.g. `Pipeline.fit(X, y, logisticregression__sample_weight=sample_weight)`."
     ]
    }
   ],
   "source": [
    "chin_svr = Pipeline(steps=[('scale', StandardScaler(with_mean=True,\n",
    "                    with_std=True)), ('estimator',\n",
    "                    RegressorChain(SVR(C=10.0, cache_size=200,\n",
    "                                                   coef0=0.0, degree=3,\n",
    "                                                   epsilon=0.1, gamma=0.1,\n",
    "                                                   kernel='rbf', max_iter=-1,\n",
    "                                                   shrinking=True, tol=0.001,\n",
    "                                                   verbose=False)))]).fit(x_train, y_train, validation_data=(x_test, y_test))"
   ]
  },
  {
   "cell_type": "code",
   "execution_count": 83,
   "metadata": {},
   "outputs": [],
   "source": [
    "for params in prova:\n",
    "    chin_svr = Pipeline(steps=[('scale', StandardScaler(with_mean=True,\n",
    "                        with_std=True)), ('estimator',\n",
    "                        RegressorChain(SVR(C=params['estimator__base_estimator__C'], cache_size=200,\n",
    "                                                       coef0=0.0, degree=3,\n",
    "                                                       epsilon=params['estimator__base_estimator__epsilon'], gamma=params['estimator__base_estimator__gamma'],\n",
    "                                                       kernel=params['estimator__base_estimator__kernel'], max_iter=-1,\n",
    "                                                       shrinking=True, tol=0.001,\n",
    "                                                       verbose=False)))]).fit(x_train, y_train)\n",
    "    train_pred = chin_svr.predict(x_train)\n",
    "    mean_tr_loss.append(mean_euclidean_error(train_pred, y_train))\n",
    "    internal_test_pred = chin_svr.predict(x_test)\n",
    "    mean_ts_loss.append(mean_euclidean_error(internal_test_pred, y_test))"
   ]
  },
  {
   "cell_type": "code",
   "execution_count": 84,
   "metadata": {},
   "outputs": [
    {
     "name": "stdout",
     "output_type": "stream",
     "text": [
      "mean_tr_loss\tmean_vl_loss\tmean_ts_loss\n",
      "1.696402 (3.391483) with: 3.165636\n",
      "2.520116 (3.397486) with: 3.065184\n",
      "1.641912 (3.401634) with: 3.201590\n",
      "1.637049 (3.403059) with: 3.206134\n"
     ]
    }
   ],
   "source": [
    "print(\"mean_tr_loss\\tmean_vl_loss\\tmean_ts_loss\")\n",
    "for tr_loss, vl_loss, ts_loss in zip(mean_tr_loss, mean_vl_loss, mean_ts_loss):\n",
    "    print(\"%f (%f) with: %f\" % (tr_loss, vl_loss, ts_loss))"
   ]
  },
  {
   "cell_type": "code",
   "execution_count": null,
   "metadata": {},
   "outputs": [],
   "source": []
  }
 ],
 "metadata": {
  "kernelspec": {
   "display_name": "Python 3",
   "language": "python",
   "name": "python3"
  },
  "language_info": {
   "codemirror_mode": {
    "name": "ipython",
    "version": 3
   },
   "file_extension": ".py",
   "mimetype": "text/x-python",
   "name": "python",
   "nbconvert_exporter": "python",
   "pygments_lexer": "ipython3",
   "version": "3.7.6"
  }
 },
 "nbformat": 4,
 "nbformat_minor": 4
}
