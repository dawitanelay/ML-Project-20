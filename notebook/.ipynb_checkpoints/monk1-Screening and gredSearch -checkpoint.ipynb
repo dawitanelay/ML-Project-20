{
 "cells": [
  {
   "cell_type": "code",
   "execution_count": 1,
   "metadata": {},
   "outputs": [],
   "source": [
    "#importing libraries\n",
    "import numpy as np\n",
    "import pandas as pd\n",
    "import matplotlib.pyplot as plt\n",
    "from time import time\n",
    "\n",
    "#sklearn (SciKitLearn)\n",
    "#from sklearn.preprocessing import minmax_scale\n",
    "from sklearn.model_selection import GridSearchCV\n",
    "#from sklearn.model_selection import train_test_split \n",
    "\n",
    "#keras\n",
    "from keras.models import Sequential\n",
    "from keras.layers import Dense, Input\n",
    "from keras.optimizers import SGD\n",
    "from keras.wrappers.scikit_learn import KerasClassifier"
   ]
  },
  {
   "cell_type": "code",
   "execution_count": 2,
   "metadata": {},
   "outputs": [],
   "source": [
    "#Extracting the training and test sets\n",
    "train_df = pd.read_csv('../data/monks-1-train.csv').to_numpy()\n",
    "test_df = pd.read_csv('../data/monks-1-test.csv').to_numpy()"
   ]
  },
  {
   "cell_type": "code",
   "execution_count": 3,
   "metadata": {},
   "outputs": [],
   "source": [
    "#Preparing train_df for training\n",
    "train_set = train_df[:, 1:7]\n",
    "train_label = train_df[:, 0]"
   ]
  },
  {
   "cell_type": "code",
   "execution_count": 4,
   "metadata": {},
   "outputs": [],
   "source": [
    "#Preparing test_df for testing\n",
    "test_set = test_df[:, 1:7]\n",
    "test_label = test_df[:, 0]"
   ]
  },
  {
   "cell_type": "code",
   "execution_count": 89,
   "metadata": {},
   "outputs": [],
   "source": [
    "from keras.utils import to_categorical\n",
    "\n",
    "def to_one_hot_nomap(dataset):\n",
    "    new_input_col = []\n",
    "    numOfColumns = np. size(dataset, 1)\n",
    "    for column in range(numOfColumns):\n",
    "        new_col = []\n",
    "        for number in train_set[:,column]:\n",
    "            new_col.append(number - 1)\n",
    "        new_input_col.append(new_col) \n",
    "    new_encoding = []\n",
    "    for col in new_input_col:\n",
    "        one_hot_encode = to_categorical(col)\n",
    "        for col_index in range(len(one_hot_encode[0])):\n",
    "            new_encoding.append(one_hot_encode[:,col_index])\n",
    "    return np.asarray(new_encoding)"
   ]
  },
  {
   "cell_type": "code",
   "execution_count": 88,
   "metadata": {},
   "outputs": [],
   "source": [
    "from keras.utils import to_categorical\n",
    "\n",
    "def fix_zero(dataset):\n",
    "  return dataset - 1\n",
    "\n",
    "def to_one_hot_map(dataset):\n",
    "    fixed_set = fix_zero(train_set)\n",
    "    new_encoding = []\n",
    "    for col in new_input_col:\n",
    "        one_hot_encode = to_categorical(col)\n",
    "        for col_index in range(len(one_hot_encode[0])):\n",
    "            new_encoding.append(one_hot_encode[:,col_index])\n",
    "    return np.asarray(new_encoding)"
   ]
  },
  {
   "cell_type": "code",
   "execution_count": null,
   "metadata": {},
   "outputs": [],
   "source": []
  }
 ],
 "metadata": {
  "kernelspec": {
   "display_name": "Python 3",
   "language": "python",
   "name": "python3"
  },
  "language_info": {
   "codemirror_mode": {
    "name": "ipython",
    "version": 3
   },
   "file_extension": ".py",
   "mimetype": "text/x-python",
   "name": "python",
   "nbconvert_exporter": "python",
   "pygments_lexer": "ipython3",
   "version": "3.8.3"
  }
 },
 "nbformat": 4,
 "nbformat_minor": 4
}
