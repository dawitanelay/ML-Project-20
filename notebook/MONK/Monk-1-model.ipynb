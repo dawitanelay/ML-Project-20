{
 "cells": [
  {
   "cell_type": "code",
   "execution_count": 21,
   "metadata": {},
   "outputs": [],
   "source": [
    "#importing libraries\n",
    "import numpy as np\n",
    "import pandas as pd\n",
    "import matplotlib.pyplot as plt\n",
    "#keras\n",
    "from keras.models import Sequential\n",
    "from keras.optimizers import SGD\n",
    "from keras.layers import Dense, Input, Dropout\n",
    "from keras.utils import to_categorical\n",
    "from keras import initializers\n",
    "# for combining all the hyper-parameters\n",
    "import itertools"
   ]
  },
  {
   "cell_type": "code",
   "execution_count": 6,
   "metadata": {},
   "outputs": [],
   "source": [
    "#Extracting the training and test sets\n",
    "train_df = pd.read_csv('../data/monks-1-train.csv').to_numpy()\n",
    "test_df = pd.read_csv('../data/monks-1-test.csv').to_numpy()\n",
    "\n",
    "#Preparing train_df for training\n",
    "train_dataset = train_df[:, 1:7]\n",
    "train_labelset = train_df[:, 0]\n",
    "#Preparing test_df for testing\n",
    "test_dataset = test_df[:, 1:7]\n",
    "test_labelset = test_df[:, 0]"
   ]
  },
  {
   "cell_type": "code",
   "execution_count": 7,
   "metadata": {},
   "outputs": [
    {
     "data": {
      "text/plain": [
       "((431, 17), (431,))"
      ]
     },
     "execution_count": 7,
     "metadata": {},
     "output_type": "execute_result"
    }
   ],
   "source": [
    "# one hot encoding \n",
    "def fix_zero(dataset):\n",
    "  return dataset - 1\n",
    "\n",
    "def to_one_hot_encoding(dataset):\n",
    "    fixed_dataset = fix_zero(dataset)\n",
    "    one_hot_dataset = []\n",
    "    for column in fixed_dataset.T:\n",
    "        one_hot_column = to_categorical(column)\n",
    "        for column_index in range(one_hot_column.shape[1]):\n",
    "            one_hot_dataset.append(one_hot_column[:,column_index])\n",
    "    return np.asarray(one_hot_dataset).T\n",
    "\n",
    "one_hot_train = to_one_hot_encoding(train_dataset)\n",
    "one_hot_test  = to_one_hot_encoding(test_dataset)\n",
    "# one_hot_train.shape , train_labelset.shape\n",
    "# one_hot_test.shape , test_labelset.shape"
   ]
  },
  {
   "cell_type": "code",
   "execution_count": 8,
   "metadata": {},
   "outputs": [],
   "source": [
    "# define the grid search parameters after performing screening path\n",
    "space = {}\n",
    "space['lr'] = [0.5,0.45,0.55]\n",
    "space['momentum'] = [0.6,0.7,0.8]\n",
    "space['num_hidden_units_1'] = [5,6,7]\n",
    "space['activation_hidden_1'] = ['relu','softmax','tanh','sigmoid']\n",
    "space['epochs'] = [50 ,90,100,150] "
   ]
  },
  {
   "cell_type": "code",
   "execution_count": 14,
   "metadata": {},
   "outputs": [],
   "source": [
    "\n",
    "# All combination of the hyper-paramers\n",
    "gridParameters=[space['lr'],space['epochs'],space['momentum'],space['num_hidden_units_1'],space['activation_hidden_1']]\n",
    "allcombination = list(itertools.product(*gridParameters))\n"
   ]
  },
  {
   "cell_type": "markdown",
   "metadata": {},
   "source": [
    "Best: 1.000000 using {'activation_hidden_1': 'softmax', 'epochs': 90, 'lr': 0.5, 'momentum': 0.7, 'num_hidden_units_1': 6}"
   ]
  },
  {
   "cell_type": "code",
   "execution_count": 19,
   "metadata": {},
   "outputs": [
    {
     "name": "stdout",
     "output_type": "stream",
     "text": [
      "Epoch 1/90\n",
      "13/13 [==============================] - 0s 14ms/step - loss: 0.2325 - accuracy: 0.6423 - val_loss: 0.2437 - val_accuracy: 0.5336\n",
      "Epoch 2/90\n",
      "13/13 [==============================] - 0s 6ms/step - loss: 0.1891 - accuracy: 0.6911 - val_loss: 0.2490 - val_accuracy: 0.6172\n",
      "Epoch 3/90\n",
      "13/13 [==============================] - 0s 5ms/step - loss: 0.1551 - accuracy: 0.7642 - val_loss: 0.1598 - val_accuracy: 0.7865\n",
      "Epoch 4/90\n",
      "13/13 [==============================] - 0s 5ms/step - loss: 0.1217 - accuracy: 0.8374 - val_loss: 0.1288 - val_accuracy: 0.8886\n",
      "Epoch 5/90\n",
      "13/13 [==============================] - 0s 5ms/step - loss: 0.0913 - accuracy: 0.9431 - val_loss: 0.1161 - val_accuracy: 0.8701\n",
      "Epoch 6/90\n",
      "13/13 [==============================] - 0s 5ms/step - loss: 0.0763 - accuracy: 0.9350 - val_loss: 0.0931 - val_accuracy: 0.8910\n",
      "Epoch 7/90\n",
      "13/13 [==============================] - 0s 6ms/step - loss: 0.0444 - accuracy: 0.9919 - val_loss: 0.0541 - val_accuracy: 0.9490\n",
      "Epoch 8/90\n",
      "13/13 [==============================] - 0s 5ms/step - loss: 0.0277 - accuracy: 1.0000 - val_loss: 0.0329 - val_accuracy: 0.9977\n",
      "Epoch 9/90\n",
      "13/13 [==============================] - 0s 6ms/step - loss: 0.0151 - accuracy: 1.0000 - val_loss: 0.0160 - val_accuracy: 1.0000\n",
      "Epoch 10/90\n",
      "13/13 [==============================] - 0s 5ms/step - loss: 0.0077 - accuracy: 1.0000 - val_loss: 0.0121 - val_accuracy: 1.0000\n",
      "Epoch 11/90\n",
      "13/13 [==============================] - 0s 5ms/step - loss: 0.0056 - accuracy: 1.0000 - val_loss: 0.0093 - val_accuracy: 1.0000\n",
      "Epoch 12/90\n",
      "13/13 [==============================] - 0s 5ms/step - loss: 0.0042 - accuracy: 1.0000 - val_loss: 0.0075 - val_accuracy: 1.0000\n",
      "Epoch 13/90\n",
      "13/13 [==============================] - 0s 5ms/step - loss: 0.0034 - accuracy: 1.0000 - val_loss: 0.0063 - val_accuracy: 1.0000\n",
      "Epoch 14/90\n",
      "13/13 [==============================] - 0s 7ms/step - loss: 0.0028 - accuracy: 1.0000 - val_loss: 0.0053 - val_accuracy: 1.0000\n",
      "Epoch 15/90\n",
      "13/13 [==============================] - 0s 6ms/step - loss: 0.0025 - accuracy: 1.0000 - val_loss: 0.0046 - val_accuracy: 1.0000\n",
      "Epoch 16/90\n",
      "13/13 [==============================] - 0s 5ms/step - loss: 0.0022 - accuracy: 1.0000 - val_loss: 0.0042 - val_accuracy: 1.0000\n",
      "Epoch 17/90\n",
      "13/13 [==============================] - 0s 5ms/step - loss: 0.0019 - accuracy: 1.0000 - val_loss: 0.0038 - val_accuracy: 1.0000\n",
      "Epoch 18/90\n",
      "13/13 [==============================] - 0s 5ms/step - loss: 0.0017 - accuracy: 1.0000 - val_loss: 0.0033 - val_accuracy: 1.0000\n",
      "Epoch 19/90\n",
      "13/13 [==============================] - 0s 5ms/step - loss: 0.0016 - accuracy: 1.0000 - val_loss: 0.0031 - val_accuracy: 1.0000\n",
      "Epoch 20/90\n",
      "13/13 [==============================] - 0s 5ms/step - loss: 0.0014 - accuracy: 1.0000 - val_loss: 0.0028 - val_accuracy: 1.0000\n",
      "Epoch 21/90\n",
      "13/13 [==============================] - 0s 5ms/step - loss: 0.0013 - accuracy: 1.0000 - val_loss: 0.0026 - val_accuracy: 1.0000\n",
      "Epoch 22/90\n",
      "13/13 [==============================] - 0s 6ms/step - loss: 0.0012 - accuracy: 1.0000 - val_loss: 0.0023 - val_accuracy: 1.0000\n",
      "Epoch 23/90\n",
      "13/13 [==============================] - 0s 6ms/step - loss: 0.0011 - accuracy: 1.0000 - val_loss: 0.0022 - val_accuracy: 1.0000\n",
      "Epoch 24/90\n",
      "13/13 [==============================] - 0s 5ms/step - loss: 0.0010 - accuracy: 1.0000 - val_loss: 0.0020 - val_accuracy: 1.0000\n",
      "Epoch 25/90\n",
      "13/13 [==============================] - 0s 5ms/step - loss: 9.7623e-04 - accuracy: 1.0000 - val_loss: 0.0019 - val_accuracy: 1.0000\n",
      "Epoch 26/90\n",
      "13/13 [==============================] - 0s 4ms/step - loss: 9.0750e-04 - accuracy: 1.0000 - val_loss: 0.0018 - val_accuracy: 1.0000\n",
      "Epoch 27/90\n",
      "13/13 [==============================] - 0s 4ms/step - loss: 8.5577e-04 - accuracy: 1.0000 - val_loss: 0.0017 - val_accuracy: 1.0000\n",
      "Epoch 28/90\n",
      "13/13 [==============================] - 0s 4ms/step - loss: 8.0301e-04 - accuracy: 1.0000 - val_loss: 0.0016 - val_accuracy: 1.0000\n",
      "Epoch 29/90\n",
      "13/13 [==============================] - 0s 5ms/step - loss: 7.6550e-04 - accuracy: 1.0000 - val_loss: 0.0015 - val_accuracy: 1.0000\n",
      "Epoch 30/90\n",
      "13/13 [==============================] - 0s 5ms/step - loss: 7.2586e-04 - accuracy: 1.0000 - val_loss: 0.0014 - val_accuracy: 1.0000\n",
      "Epoch 31/90\n",
      "13/13 [==============================] - 0s 6ms/step - loss: 6.8427e-04 - accuracy: 1.0000 - val_loss: 0.0014 - val_accuracy: 1.0000\n",
      "Epoch 32/90\n",
      "13/13 [==============================] - 0s 8ms/step - loss: 6.5316e-04 - accuracy: 1.0000 - val_loss: 0.0013 - val_accuracy: 1.0000\n",
      "Epoch 33/90\n",
      "13/13 [==============================] - 0s 7ms/step - loss: 6.2452e-04 - accuracy: 1.0000 - val_loss: 0.0012 - val_accuracy: 1.0000\n",
      "Epoch 34/90\n",
      "13/13 [==============================] - 0s 6ms/step - loss: 6.0418e-04 - accuracy: 1.0000 - val_loss: 0.0012 - val_accuracy: 1.0000\n",
      "Epoch 35/90\n",
      "13/13 [==============================] - 0s 6ms/step - loss: 5.7050e-04 - accuracy: 1.0000 - val_loss: 0.0012 - val_accuracy: 1.0000\n",
      "Epoch 36/90\n",
      "13/13 [==============================] - 0s 5ms/step - loss: 5.4719e-04 - accuracy: 1.0000 - val_loss: 0.0011 - val_accuracy: 1.0000\n",
      "Epoch 37/90\n",
      "13/13 [==============================] - 0s 5ms/step - loss: 5.2424e-04 - accuracy: 1.0000 - val_loss: 0.0011 - val_accuracy: 1.0000\n",
      "Epoch 38/90\n",
      "13/13 [==============================] - 0s 5ms/step - loss: 5.0783e-04 - accuracy: 1.0000 - val_loss: 0.0010 - val_accuracy: 1.0000\n",
      "Epoch 39/90\n",
      "13/13 [==============================] - 0s 5ms/step - loss: 4.8693e-04 - accuracy: 1.0000 - val_loss: 9.9211e-04 - val_accuracy: 1.0000\n",
      "Epoch 40/90\n",
      "13/13 [==============================] - 0s 5ms/step - loss: 4.6936e-04 - accuracy: 1.0000 - val_loss: 9.5835e-04 - val_accuracy: 1.0000\n",
      "Epoch 41/90\n",
      "13/13 [==============================] - 0s 5ms/step - loss: 4.5437e-04 - accuracy: 1.0000 - val_loss: 9.2817e-04 - val_accuracy: 1.0000\n",
      "Epoch 42/90\n",
      "13/13 [==============================] - 0s 5ms/step - loss: 4.3941e-04 - accuracy: 1.0000 - val_loss: 8.9264e-04 - val_accuracy: 1.0000\n",
      "Epoch 43/90\n",
      "13/13 [==============================] - 0s 5ms/step - loss: 4.2560e-04 - accuracy: 1.0000 - val_loss: 8.6036e-04 - val_accuracy: 1.0000\n",
      "Epoch 44/90\n",
      "13/13 [==============================] - 0s 5ms/step - loss: 4.1225e-04 - accuracy: 1.0000 - val_loss: 8.3993e-04 - val_accuracy: 1.0000\n",
      "Epoch 45/90\n",
      "13/13 [==============================] - 0s 6ms/step - loss: 3.9815e-04 - accuracy: 1.0000 - val_loss: 8.1539e-04 - val_accuracy: 1.0000\n",
      "Epoch 46/90\n",
      "13/13 [==============================] - 0s 5ms/step - loss: 3.8595e-04 - accuracy: 1.0000 - val_loss: 7.8494e-04 - val_accuracy: 1.0000\n",
      "Epoch 47/90\n",
      "13/13 [==============================] - 0s 5ms/step - loss: 3.7635e-04 - accuracy: 1.0000 - val_loss: 7.5213e-04 - val_accuracy: 1.0000\n",
      "Epoch 48/90\n",
      "13/13 [==============================] - 0s 5ms/step - loss: 3.6689e-04 - accuracy: 1.0000 - val_loss: 7.2819e-04 - val_accuracy: 1.0000\n",
      "Epoch 49/90\n",
      "13/13 [==============================] - 0s 5ms/step - loss: 3.5236e-04 - accuracy: 1.0000 - val_loss: 6.9597e-04 - val_accuracy: 1.0000\n",
      "Epoch 50/90\n",
      "13/13 [==============================] - 0s 5ms/step - loss: 3.4990e-04 - accuracy: 1.0000 - val_loss: 6.7065e-04 - val_accuracy: 1.0000\n",
      "Epoch 51/90\n",
      "13/13 [==============================] - 0s 6ms/step - loss: 3.3547e-04 - accuracy: 1.0000 - val_loss: 6.6307e-04 - val_accuracy: 1.0000\n",
      "Epoch 52/90\n",
      "13/13 [==============================] - 0s 6ms/step - loss: 3.2511e-04 - accuracy: 1.0000 - val_loss: 6.4840e-04 - val_accuracy: 1.0000\n",
      "Epoch 53/90\n",
      "13/13 [==============================] - 0s 6ms/step - loss: 3.1628e-04 - accuracy: 1.0000 - val_loss: 6.2962e-04 - val_accuracy: 1.0000\n",
      "Epoch 54/90\n",
      "13/13 [==============================] - 0s 5ms/step - loss: 3.0864e-04 - accuracy: 1.0000 - val_loss: 6.1445e-04 - val_accuracy: 1.0000\n",
      "Epoch 55/90\n",
      "13/13 [==============================] - 0s 5ms/step - loss: 2.9993e-04 - accuracy: 1.0000 - val_loss: 6.0046e-04 - val_accuracy: 1.0000\n",
      "Epoch 56/90\n",
      "13/13 [==============================] - 0s 7ms/step - loss: 2.9191e-04 - accuracy: 1.0000 - val_loss: 5.8589e-04 - val_accuracy: 1.0000\n",
      "Epoch 57/90\n",
      "13/13 [==============================] - 0s 6ms/step - loss: 2.8584e-04 - accuracy: 1.0000 - val_loss: 5.7168e-04 - val_accuracy: 1.0000\n"
     ]
    },
    {
     "name": "stdout",
     "output_type": "stream",
     "text": [
      "Epoch 58/90\n",
      "13/13 [==============================] - 0s 7ms/step - loss: 2.7973e-04 - accuracy: 1.0000 - val_loss: 5.5982e-04 - val_accuracy: 1.0000\n",
      "Epoch 59/90\n",
      "13/13 [==============================] - 0s 6ms/step - loss: 2.7269e-04 - accuracy: 1.0000 - val_loss: 5.5121e-04 - val_accuracy: 1.0000\n",
      "Epoch 60/90\n",
      "13/13 [==============================] - 0s 6ms/step - loss: 2.6646e-04 - accuracy: 1.0000 - val_loss: 5.3474e-04 - val_accuracy: 1.0000\n",
      "Epoch 61/90\n",
      "13/13 [==============================] - 0s 7ms/step - loss: 2.6041e-04 - accuracy: 1.0000 - val_loss: 5.2141e-04 - val_accuracy: 1.0000\n",
      "Epoch 62/90\n",
      "13/13 [==============================] - 0s 5ms/step - loss: 2.5458e-04 - accuracy: 1.0000 - val_loss: 5.0998e-04 - val_accuracy: 1.0000\n",
      "Epoch 63/90\n",
      "13/13 [==============================] - 0s 5ms/step - loss: 2.4957e-04 - accuracy: 1.0000 - val_loss: 4.9832e-04 - val_accuracy: 1.0000\n",
      "Epoch 64/90\n",
      "13/13 [==============================] - 0s 6ms/step - loss: 2.4394e-04 - accuracy: 1.0000 - val_loss: 4.9120e-04 - val_accuracy: 1.0000\n",
      "Epoch 65/90\n",
      "13/13 [==============================] - 0s 6ms/step - loss: 2.3973e-04 - accuracy: 1.0000 - val_loss: 4.8009e-04 - val_accuracy: 1.0000\n",
      "Epoch 66/90\n",
      "13/13 [==============================] - 0s 6ms/step - loss: 2.3526e-04 - accuracy: 1.0000 - val_loss: 4.7054e-04 - val_accuracy: 1.0000\n",
      "Epoch 67/90\n",
      "13/13 [==============================] - 0s 4ms/step - loss: 2.3054e-04 - accuracy: 1.0000 - val_loss: 4.6287e-04 - val_accuracy: 1.0000\n",
      "Epoch 68/90\n",
      "13/13 [==============================] - 0s 6ms/step - loss: 2.2644e-04 - accuracy: 1.0000 - val_loss: 4.5231e-04 - val_accuracy: 1.0000\n",
      "Epoch 69/90\n",
      "13/13 [==============================] - 0s 7ms/step - loss: 2.2141e-04 - accuracy: 1.0000 - val_loss: 4.4251e-04 - val_accuracy: 1.0000\n",
      "Epoch 70/90\n",
      "13/13 [==============================] - 0s 6ms/step - loss: 2.1760e-04 - accuracy: 1.0000 - val_loss: 4.3571e-04 - val_accuracy: 1.0000\n",
      "Epoch 71/90\n",
      "13/13 [==============================] - 0s 5ms/step - loss: 2.1379e-04 - accuracy: 1.0000 - val_loss: 4.2637e-04 - val_accuracy: 1.0000\n",
      "Epoch 72/90\n",
      "13/13 [==============================] - 0s 6ms/step - loss: 2.0966e-04 - accuracy: 1.0000 - val_loss: 4.1957e-04 - val_accuracy: 1.0000\n",
      "Epoch 73/90\n",
      "13/13 [==============================] - 0s 6ms/step - loss: 2.0545e-04 - accuracy: 1.0000 - val_loss: 4.1433e-04 - val_accuracy: 1.0000\n",
      "Epoch 74/90\n",
      "13/13 [==============================] - 0s 6ms/step - loss: 2.0314e-04 - accuracy: 1.0000 - val_loss: 4.0580e-04 - val_accuracy: 1.0000\n",
      "Epoch 75/90\n",
      "13/13 [==============================] - 0s 5ms/step - loss: 1.9919e-04 - accuracy: 1.0000 - val_loss: 3.9978e-04 - val_accuracy: 1.0000\n",
      "Epoch 76/90\n",
      "13/13 [==============================] - 0s 6ms/step - loss: 1.9537e-04 - accuracy: 1.0000 - val_loss: 3.9298e-04 - val_accuracy: 1.0000\n",
      "Epoch 77/90\n",
      "13/13 [==============================] - 0s 6ms/step - loss: 1.9210e-04 - accuracy: 1.0000 - val_loss: 3.8535e-04 - val_accuracy: 1.0000\n",
      "Epoch 78/90\n",
      "13/13 [==============================] - 0s 5ms/step - loss: 1.8937e-04 - accuracy: 1.0000 - val_loss: 3.7791e-04 - val_accuracy: 1.0000\n",
      "Epoch 79/90\n",
      "13/13 [==============================] - 0s 5ms/step - loss: 1.8607e-04 - accuracy: 1.0000 - val_loss: 3.7330e-04 - val_accuracy: 1.0000\n",
      "Epoch 80/90\n",
      "13/13 [==============================] - 0s 6ms/step - loss: 1.8324e-04 - accuracy: 1.0000 - val_loss: 3.6743e-04 - val_accuracy: 1.0000\n",
      "Epoch 81/90\n",
      "13/13 [==============================] - 0s 5ms/step - loss: 1.8040e-04 - accuracy: 1.0000 - val_loss: 3.6204e-04 - val_accuracy: 1.0000\n",
      "Epoch 82/90\n",
      "13/13 [==============================] - 0s 6ms/step - loss: 1.7804e-04 - accuracy: 1.0000 - val_loss: 3.5573e-04 - val_accuracy: 1.0000\n",
      "Epoch 83/90\n",
      "13/13 [==============================] - 0s 5ms/step - loss: 1.7474e-04 - accuracy: 1.0000 - val_loss: 3.4991e-04 - val_accuracy: 1.0000\n",
      "Epoch 84/90\n",
      "13/13 [==============================] - 0s 5ms/step - loss: 1.7223e-04 - accuracy: 1.0000 - val_loss: 3.4540e-04 - val_accuracy: 1.0000\n",
      "Epoch 85/90\n",
      "13/13 [==============================] - 0s 6ms/step - loss: 1.6962e-04 - accuracy: 1.0000 - val_loss: 3.4001e-04 - val_accuracy: 1.0000\n",
      "Epoch 86/90\n",
      "13/13 [==============================] - 0s 6ms/step - loss: 1.6732e-04 - accuracy: 1.0000 - val_loss: 3.3468e-04 - val_accuracy: 1.0000\n",
      "Epoch 87/90\n",
      "13/13 [==============================] - 0s 5ms/step - loss: 1.6487e-04 - accuracy: 1.0000 - val_loss: 3.3001e-04 - val_accuracy: 1.0000\n",
      "Epoch 88/90\n",
      "13/13 [==============================] - 0s 6ms/step - loss: 1.6287e-04 - accuracy: 1.0000 - val_loss: 3.2552e-04 - val_accuracy: 1.0000\n",
      "Epoch 89/90\n",
      "13/13 [==============================] - 0s 5ms/step - loss: 1.6033e-04 - accuracy: 1.0000 - val_loss: 3.2006e-04 - val_accuracy: 1.0000\n",
      "Epoch 90/90\n",
      "13/13 [==============================] - 0s 6ms/step - loss: 1.5806e-04 - accuracy: 1.0000 - val_loss: 3.1664e-04 - val_accuracy: 1.0000\n"
     ]
    }
   ],
   "source": [
    "model = Sequential()\n",
    "initializer = initializers.GlorotNormal(seed=52) # seed to produce the same random sample.\n",
    "model.add(Dense(units=6, kernel_initializer=initializer, input_dim=17, activation='relu'))\n",
    "model.add(Dense(1, activation='sigmoid'))\n",
    "sgd = SGD(lr= 0.5, momentum=0.7, nesterov=True)\n",
    "model.compile(optimizer=sgd, loss='mean_squared_error',metrics=['accuracy'])\n",
    "history = model.fit(one_hot_train, train_labelset,validation_data=(one_hot_test, test_labelset), epochs=90, batch_size=10, verbose=1)"
   ]
  },
  {
   "cell_type": "code",
   "execution_count": 22,
   "metadata": {},
   "outputs": [
    {
     "data": {
      "image/png": "[encoded data removed]",
      "text/plain": [
       "<Figure size 432x288 with 1 Axes>"
      ]
     },
     "metadata": {
      "needs_background": "light"
     },
     "output_type": "display_data"
    },
    {
     "data": {
      "image/png": "[encoded data removed]",
      "text/plain": [
       "<Figure size 432x288 with 1 Axes>"
      ]
     },
     "metadata": {
      "needs_background": "light"
     },
     "output_type": "display_data"
    }
   ],
   "source": [
    "# summarize history for accuracy\n",
    "plt.plot(history.history['accuracy'])\n",
    "plt.plot(history.history['val_accuracy'])\n",
    "plt.title('model accuracy')\n",
    "plt.ylabel('accuracy')\n",
    "plt.xlabel('epoch')\n",
    "plt.legend(['train', 'test'], loc='upper left')\n",
    "plt.show()\n",
    "# summarize history for loss\n",
    "plt.plot(history.history['loss'])\n",
    "plt.plot(history.history['val_loss'])\n",
    "plt.title('model loss')\n",
    "plt.ylabel('loss')\n",
    "plt.xlabel('epoch')\n",
    "plt.legend(['train', 'test'], loc='upper left')\n",
    "plt.show()"
   ]
  },
  {
   "cell_type": "code",
   "execution_count": null,
   "metadata": {},
   "outputs": [],
   "source": []
  }
 ],
 "metadata": {
  "kernelspec": {
   "display_name": "Python 3",
   "language": "python",
   "name": "python3"
  },
  "language_info": {
   "codemirror_mode": {
    "name": "ipython",
    "version": 3
   },
   "file_extension": ".py",
   "mimetype": "text/x-python",
   "name": "python",
   "nbconvert_exporter": "python",
   "pygments_lexer": "ipython3",
   "version": "3.7.6"
  }
 },
 "nbformat": 4,
 "nbformat_minor": 4
}
