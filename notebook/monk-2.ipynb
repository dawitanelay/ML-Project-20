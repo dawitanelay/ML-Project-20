{
 "cells": [
  {
   "cell_type": "code",
   "execution_count": 2,
   "metadata": {},
   "outputs": [],
   "source": [
    "\n",
    "#importing libraries\n",
    "import numpy as np\n",
    "import pandas as pd\n",
    "#keras\n",
    "from keras.models import Sequential\n",
    "from keras.layers import Dense\n",
    "from keras.optimizers import SGD\n",
    "import matplotlib.pyplot as plt\n",
    "from sklearn.preprocessing import minmax_scale\n",
    "from sklearn.model_selection import GridSearchCV\n",
    "from sklearn.model_selection import train_test_split \n",
    "from keras.wrappers.scikit_learn import KerasClassifier\n",
    "\n",
    "\n",
    "\n",
    "\n",
    "from sklearn.pipeline import Pipeline\n",
    "from sklearn.model_selection import GridSearchCV\n",
    "from sklearn.feature_extraction.text import TfidfVectorizer\n",
    "from sklearn.preprocessing import StandardScaler\n",
    "from keras.wrappers.scikit_learn import KerasClassifier\n",
    "from keras.layers import Dense, Input, Dropout\n",
    "from keras import Sequential\n",
    "from keras import regularizers\n",
    "from keras.layers import Dropout\n",
    "from keras.utils import to_categorical\n",
    "\n",
    "# for combining all the hyper-parameters\n",
    "import itertools \n",
    "from time import time"
   ]
  },
  {
   "cell_type": "code",
   "execution_count": 7,
   "metadata": {},
   "outputs": [],
   "source": [
    "\n",
    "# reading training and testing data from the csv file\n",
    "train_df = pd.read_csv ('../data/monks-2-test.csv',header=None).to_numpy()\n",
    "test_df = pd.read_csv ('../data/monks-2-train.csv',header=None).to_numpy()\n"
   ]
  },
  {
   "cell_type": "code",
   "execution_count": 8,
   "metadata": {},
   "outputs": [],
   "source": [
    "#Preparing train_df for training\n",
    "train_set = train_df[:, 1:7]\n",
    "train_label = train_df[:, 0]\n",
    "\n",
    "\n",
    "#Preparing test_df for testing\n",
    "test_set = test_df[:, 1:7]\n",
    "test_label = test_df[:, 0]"
   ]
  },
  {
   "cell_type": "code",
   "execution_count": 9,
   "metadata": {},
   "outputs": [
    {
     "data": {
      "text/plain": [
       "((169, 6), (169,), (432, 6), (432,))"
      ]
     },
     "execution_count": 9,
     "metadata": {},
     "output_type": "execute_result"
    }
   ],
   "source": [
    "#  test_set.shape ,test_label.shape , train_set.shape , train_label.shape"
   ]
  },
  {
   "cell_type": "code",
   "execution_count": 11,
   "metadata": {},
   "outputs": [],
   "source": [
    "# one hot encoding \n",
    "from keras.utils import to_categorical\n",
    "\n",
    "def fix_zero(dataset):\n",
    "  return dataset - 1\n",
    "\n",
    "def to_one_hot_encoding(dataset):\n",
    "    fixed_dataset = fix_zero(dataset)\n",
    "    one_hot_dataset = []\n",
    "    for column in fixed_dataset.T:\n",
    "        one_hot_column = to_categorical(column)\n",
    "        for column_index in range(one_hot_column.shape[1]):\n",
    "            one_hot_dataset.append(one_hot_column[:,column_index])\n",
    "    return np.asarray(one_hot_dataset).T"
   ]
  },
  {
   "cell_type": "code",
   "execution_count": 14,
   "metadata": {},
   "outputs": [
    {
     "data": {
      "text/plain": [
       "((432, 17), (432,), (169, 17), (169,))"
      ]
     },
     "execution_count": 14,
     "metadata": {},
     "output_type": "execute_result"
    }
   ],
   "source": [
    "one_hot_train = to_one_hot_encoding(train_set)\n",
    "one_hot_test  = to_one_hot_encoding(test_set)\n",
    "# one_hot_train.shape , train_label.shape ,one_hot_test.shape , test_label.shape\n"
   ]
  },
  {
   "cell_type": "code",
   "execution_count": null,
   "metadata": {},
   "outputs": [],
   "source": [
    "def create_model(\n",
    "                    lr=0.7, \n",
    "                    num_hidden_units_1=10,\n",
    "                    num_hidden_units_2=1, \n",
    "                    activation_hidden_1=\"relu\", \n",
    "                    activation_hidden_2=\"relu\", \n",
    "                    activation_out=\"softmax\", \n",
    "                    init_mode=initializers.RandomNormal(mean=0., stddev=1.), \n",
    "                    momentum=0.7, \n",
    "                    decay=0.01\n",
    "                ):\n",
    "    # create model\n",
    "    model = Sequential()\n",
    "    initializer = initializers.GlorotNormal(seed=42) # has the parameter of seed to produce the same random sample.\n",
    "    model.add(Dense(units=num_hidden_units_1, kernel_initializer=initializer, input_dim=17, activation='relu'))\n",
    "    model.add(Dense(1, activation='sigmoid'))\n",
    "\n",
    "    #optimizer\n",
    "    sgd = SGD(lr=lr, momentum=momentum, nesterov=False)  # We can add decay to hyper parameter list to get optimum value. \n",
    "\n",
    "    # Compile model\n",
    "    model.compile(optimizer=sgd, loss='mean_squared_error', metrics=['accuracy'])\n",
    "    return model"
   ]
  },
  {
   "cell_type": "code",
   "execution_count": null,
   "metadata": {},
   "outputs": [],
   "source": [
    "# screening \n",
    "def plot_accuracy_two_params(history, par_a, value_a, par_b, value_b, axs):\n",
    "    plt.subplot(axs)\n",
    "    plt.plot(history.history['accuracy'], label='TR_set')\n",
    "    plt.plot(history.history['val_accuracy'], label='VL_set')\n",
    "    axs.set_title('Model Accuracy [' + par_a + ' = ' + str(value_a) + '] [' + par_b + ' = ' + str(value_b) + ']' )\n",
    "    axs.set_ylabel('Accuracy')\n",
    "    axs.set_xlabel('Epoch')\n",
    "    axs.legend(loc='best')\n",
    "\n",
    "def plot_loss_two_params(history, par_a, value_a, par_b, value_b, axs):\n",
    "    plt.subplot(axs)\n",
    "    plt.plot(history.history['loss'], label='TR_set')\n",
    "    plt.plot(history.history['val_loss'], label='VL_set')\n",
    "    axs.set_title('Model Loss (MSE) [' + par_a + ' = ' + str(value_a) + '] [' + par_b + ' = ' + str(value_b) + ']' )\n",
    "    axs.set_ylabel('MSE')\n",
    "    axs.set_xlabel('Epoch')\n",
    "    axs.legend(loc='best')\n",
    "\n",
    "def screening_phase(par_a, values_a, par_b, values_b, plot_function=plot_loss_two_params):\n",
    "    num_values_a = len(values_a)\n",
    "    num_values_b = len(values_b)\n",
    "    f, axs = plt.subplots(nrows= num_values_a, ncols=num_values_b, figsize=(8*num_values_b, 5*num_values_a))\n",
    "    for i in range(num_values_a):\n",
    "        for j in range(num_values_b):\n",
    "            params = {par_a : values_a[i], par_b : values_b[j]}\n",
    "            model = KerasClassifier(build_fn=create_model, **params)\n",
    "            history = model.fit(one_hot_train, train_label, validation_data=(one_hot_test, test_label), epochs=90, batch_size=10, verbose=0)\n",
    "            plot_function(history, par_a, values_a[i], par_b, values_b[j], axs[i][j])\n",
    "    plt.suptitle('Screening phase on ' + par_a + ' and ' + par_b)\n",
    "    plt.show()"
   ]
  }
 ],
 "metadata": {
  "kernelspec": {
   "display_name": "Python 3",
   "language": "python",
   "name": "python3"
  },
  "language_info": {
   "codemirror_mode": {
    "name": "ipython",
    "version": 3
   },
   "file_extension": ".py",
   "mimetype": "text/x-python",
   "name": "python",
   "nbconvert_exporter": "python",
   "pygments_lexer": "ipython3",
   "version": "3.7.6"
  }
 },
 "nbformat": 4,
 "nbformat_minor": 4
}
