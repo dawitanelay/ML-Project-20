{
 "cells": [
  {
   "cell_type": "code",
   "execution_count": 3,
   "metadata": {},
   "outputs": [],
   "source": [
    "\n",
    "\"\"\"Importing the libraries\"\"\"\n",
    "import numpy as np\n",
    "import pandas as pd \n",
    "from sklearn.preprocessing import StandardScaler\n",
    "from sklearn.multioutput import RegressorChain\n",
    "from sklearn.multioutput import MultiOutputRegressor\n",
    "from sklearn.model_selection import train_test_split\n",
    "from sklearn.model_selection import GridSearchCV\n",
    "from sklearn.svm import SVR\n",
    "from sklearn.pipeline import Pipeline\n",
    "from sklearn.metrics import r2_score\n",
    "from sklearn.model_selection import learning_curve\n",
    "import matplotlib.pyplot as plt\n",
    "import seaborn as sns \n",
    "import numpy\n",
    "\n",
    "\n"
   ]
  },
  {
   "cell_type": "code",
   "execution_count": 4,
   "metadata": {},
   "outputs": [],
   "source": [
    "def mean_euclidean_error(y_true, y_pred):\n",
    "    \"\"\"\n",
    "    mean euclidean error MEE\n",
    "    \"\"\"\n",
    "\n",
    "    error = 0\n",
    "    if len(y_true) == len(y_pred):\n",
    "        for i in range(len(y_true)):\n",
    "            error = error + np.sqrt(np.square(y_pred[i][0]\n",
    "                                    - y_true[i][0])\n",
    "                                    + np.square(y_pred[i][1]\n",
    "                                    - y_true[i][1]))\n",
    "        return error / len(y_true)"
   ]
  },
  {
   "cell_type": "code",
   "execution_count": 5,
   "metadata": {},
   "outputs": [],
   "source": [
    "\"\"\"Importing the dataset\"\"\"\n",
    "\n",
    "train_df = pd.read_csv('../data/ML-CUP20-TR .csv')\n",
    "test_df = pd.read_csv('../data/ML-CUP20-TS.csv')\n",
    "test_cup = pd.read_csv('../data/ML-CUP20-TS.csv')"
   ]
  },
  {
   "cell_type": "code",
   "execution_count": 6,
   "metadata": {},
   "outputs": [],
   "source": [
    "\"\"\"Splitting the dataset into the Training set and Test set\"\"\"\n",
    "\n",
    "train_x = train_df.iloc[:, :-2].to_numpy()\n",
    "train_y = train_df.iloc[:, [10, 11]].to_numpy()\n"
   ]
  },
  {
   "cell_type": "code",
   "execution_count": 7,
   "metadata": {},
   "outputs": [],
   "source": [
    "\"\"\"Splitting the dataset into the Training set and Test set\"\"\"\n",
    "\n",
    "(x_train, x_test, y_train, y_test) = train_test_split(train_x, train_y,\n",
    "        test_size=0.4, random_state=30)"
   ]
  },
  {
   "cell_type": "code",
   "execution_count": 10,
   "metadata": {},
   "outputs": [],
   "source": [
    "chin_svr = Pipeline(steps=[('scale', StandardScaler(with_mean=True,\n",
    "                    with_std=True)), ('estimator',\n",
    "                    RegressorChain(SVR(C=10.0, cache_size=200,\n",
    "                                                   coef0=0.0, degree=3,\n",
    "                                                   epsilon=0.1, gamma=0.1,\n",
    "                                                   kernel='rbf', max_iter=-1,\n",
    "                                                   shrinking=True, tol=0.001,\n",
    "                                                   verbose=False)))]).fit(x_train, y_train)"
   ]
  },
  {
   "cell_type": "code",
   "execution_count": 11,
   "metadata": {},
   "outputs": [],
   "source": [
    "\"\"\" Predicting the Test set results \"\"\"\n",
    "\n",
    "y_pred = direct_svr.predict(x_test)\n"
   ]
  },
  {
   "cell_type": "code",
   "execution_count": 12,
   "metadata": {},
   "outputs": [
    {
     "name": "stdout",
     "output_type": "stream",
     "text": [
      "Model r2_score :0.947\n",
      "Model MEE :2.942\n"
     ]
    }
   ],
   "source": [
    "\"\"\"  summarize performance \"\"\"\n",
    "\n",
    "print(f\"Model r2_score :{round(r2_score(y_test, y_pred),3)}\" )\n",
    "print(f\"Model MEE :{round(mean_euclidean_error(y_test, y_pred),3)}\" )\n",
    "\n"
   ]
  },
  {
   "cell_type": "code",
   "execution_count": 13,
   "metadata": {},
   "outputs": [],
   "source": [
    "\"\"\"Feature Scaling \"\"\"\n",
    "sc_X = StandardScaler()\n",
    "X_train = sc_X.fit_transform(x_train)\n",
    "x_cup_test = sc_X.transform(test_cup)"
   ]
  },
  {
   "cell_type": "code",
   "execution_count": 14,
   "metadata": {},
   "outputs": [],
   "source": [
    "\"\"\" Predicting the cup test set results and dump to csv\"\"\"\n",
    "\n",
    "y_cup = direct_svr.predict(x_cup_test)\n",
    "# pd.DataFrame(y_cup).to_csv(\"coffee_ML-CUP20-TS.csv\",header=None)\n"
   ]
  },
  {
   "cell_type": "code",
   "execution_count": null,
   "metadata": {},
   "outputs": [],
   "source": []
  }
 ],
 "metadata": {
  "kernelspec": {
   "display_name": "Python 3",
   "language": "python",
   "name": "python3"
  },
  "language_info": {
   "codemirror_mode": {
    "name": "ipython",
    "version": 3
   },
   "file_extension": ".py",
   "mimetype": "text/x-python",
   "name": "python",
   "nbconvert_exporter": "python",
   "pygments_lexer": "ipython3",
   "version": "3.7.6"
  }
 },
 "nbformat": 4,
 "nbformat_minor": 4
}
